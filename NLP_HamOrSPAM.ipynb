{
 "cells": [
  {
   "cell_type": "markdown",
   "id": "155e0c3b",
   "metadata": {},
   "source": [
    "# NLP Classification(Ham vs SPAM)"
   ]
  },
  {
   "cell_type": "markdown",
   "id": "c29cdc26",
   "metadata": {},
   "source": [
    "#####  https://www.kaggle.com/faressayah/natural-language-processing-nlp-for-beginners/"
   ]
  },
  {
   "cell_type": "code",
   "execution_count": 1,
   "id": "54f47b9d",
   "metadata": {},
   "outputs": [],
   "source": [
    "import pandas as pd\n",
    "import numpy as np\n",
    "import matplotlib.pyplot as plt\n",
    "import seaborn as sns\n",
    "\n",
    "%matplotlib inline\n",
    "sns.set_style(\"whitegrid\")\n",
    "plt.style.use(\"fivethirtyeight\")"
   ]
  },
  {
   "cell_type": "markdown",
   "id": "d1e59cfd",
   "metadata": {},
   "source": [
    "### Sample "
   ]
  },
  {
   "cell_type": "code",
   "execution_count": 2,
   "id": "74441d55",
   "metadata": {},
   "outputs": [],
   "source": [
    "simple_train = ['call you tonight', 'Call me a cab', 'Please call me... PLEASE']"
   ]
  },
  {
   "cell_type": "code",
   "execution_count": 3,
   "id": "8cc5071c",
   "metadata": {},
   "outputs": [],
   "source": [
    "from sklearn.feature_extraction.text import CountVectorizer\n",
    "vect = CountVectorizer()"
   ]
  },
  {
   "cell_type": "code",
   "execution_count": 4,
   "id": "22e7fb88",
   "metadata": {},
   "outputs": [
    {
     "data": {
      "text/plain": [
       "CountVectorizer()"
      ]
     },
     "execution_count": 4,
     "metadata": {},
     "output_type": "execute_result"
    }
   ],
   "source": [
    "vect.fit(simple_train)"
   ]
  },
  {
   "cell_type": "code",
   "execution_count": 5,
   "id": "f94a60a5",
   "metadata": {},
   "outputs": [
    {
     "data": {
      "text/plain": [
       "['cab', 'call', 'me', 'please', 'tonight', 'you']"
      ]
     },
     "execution_count": 5,
     "metadata": {},
     "output_type": "execute_result"
    }
   ],
   "source": [
    "vect.get_feature_names()"
   ]
  },
  {
   "cell_type": "code",
   "execution_count": 6,
   "id": "b6bd62a5",
   "metadata": {},
   "outputs": [
    {
     "data": {
      "text/plain": [
       "<3x6 sparse matrix of type '<class 'numpy.int64'>'\n",
       "\twith 9 stored elements in Compressed Sparse Row format>"
      ]
     },
     "execution_count": 6,
     "metadata": {},
     "output_type": "execute_result"
    }
   ],
   "source": [
    "simple_train_dtm = vect.transform(simple_train)\n",
    "simple_train_dtm"
   ]
  },
  {
   "cell_type": "code",
   "execution_count": 7,
   "id": "56000066",
   "metadata": {},
   "outputs": [
    {
     "data": {
      "text/plain": [
       "array([[0, 1, 0, 0, 1, 1],\n",
       "       [1, 1, 1, 0, 0, 0],\n",
       "       [0, 1, 1, 2, 0, 0]], dtype=int64)"
      ]
     },
     "execution_count": 7,
     "metadata": {},
     "output_type": "execute_result"
    }
   ],
   "source": [
    "simple_train_dtm.toarray()"
   ]
  },
  {
   "cell_type": "code",
   "execution_count": 8,
   "id": "bde7fce9",
   "metadata": {},
   "outputs": [
    {
     "data": {
      "text/html": [
       "<div>\n",
       "<style scoped>\n",
       "    .dataframe tbody tr th:only-of-type {\n",
       "        vertical-align: middle;\n",
       "    }\n",
       "\n",
       "    .dataframe tbody tr th {\n",
       "        vertical-align: top;\n",
       "    }\n",
       "\n",
       "    .dataframe thead th {\n",
       "        text-align: right;\n",
       "    }\n",
       "</style>\n",
       "<table border=\"1\" class=\"dataframe\">\n",
       "  <thead>\n",
       "    <tr style=\"text-align: right;\">\n",
       "      <th></th>\n",
       "      <th>cab</th>\n",
       "      <th>call</th>\n",
       "      <th>me</th>\n",
       "      <th>please</th>\n",
       "      <th>tonight</th>\n",
       "      <th>you</th>\n",
       "    </tr>\n",
       "  </thead>\n",
       "  <tbody>\n",
       "    <tr>\n",
       "      <th>0</th>\n",
       "      <td>0</td>\n",
       "      <td>1</td>\n",
       "      <td>0</td>\n",
       "      <td>0</td>\n",
       "      <td>1</td>\n",
       "      <td>1</td>\n",
       "    </tr>\n",
       "    <tr>\n",
       "      <th>1</th>\n",
       "      <td>1</td>\n",
       "      <td>1</td>\n",
       "      <td>1</td>\n",
       "      <td>0</td>\n",
       "      <td>0</td>\n",
       "      <td>0</td>\n",
       "    </tr>\n",
       "    <tr>\n",
       "      <th>2</th>\n",
       "      <td>0</td>\n",
       "      <td>1</td>\n",
       "      <td>1</td>\n",
       "      <td>2</td>\n",
       "      <td>0</td>\n",
       "      <td>0</td>\n",
       "    </tr>\n",
       "  </tbody>\n",
       "</table>\n",
       "</div>"
      ],
      "text/plain": [
       "   cab  call  me  please  tonight  you\n",
       "0    0     1   0       0        1    1\n",
       "1    1     1   1       0        0    0\n",
       "2    0     1   1       2        0    0"
      ]
     },
     "execution_count": 8,
     "metadata": {},
     "output_type": "execute_result"
    }
   ],
   "source": [
    "pd.DataFrame(simple_train_dtm.toarray(), columns=vect.get_feature_names())"
   ]
  },
  {
   "cell_type": "code",
   "execution_count": 9,
   "id": "42f42be3",
   "metadata": {},
   "outputs": [
    {
     "data": {
      "text/plain": [
       "scipy.sparse.csr.csr_matrix"
      ]
     },
     "execution_count": 9,
     "metadata": {},
     "output_type": "execute_result"
    }
   ],
   "source": [
    "type(simple_train_dtm)"
   ]
  },
  {
   "cell_type": "code",
   "execution_count": 10,
   "id": "4b21ed39",
   "metadata": {},
   "outputs": [
    {
     "name": "stdout",
     "output_type": "stream",
     "text": [
      "  (0, 1)\t1\n",
      "  (0, 4)\t1\n",
      "  (0, 5)\t1\n",
      "  (1, 0)\t1\n",
      "  (1, 1)\t1\n",
      "  (1, 2)\t1\n",
      "  (2, 1)\t1\n",
      "  (2, 2)\t1\n",
      "  (2, 3)\t2\n"
     ]
    }
   ],
   "source": [
    "print(simple_train_dtm)"
   ]
  },
  {
   "cell_type": "code",
   "execution_count": 11,
   "id": "5084d412",
   "metadata": {},
   "outputs": [],
   "source": [
    "simple_test = [\"please don't call me\"]"
   ]
  },
  {
   "cell_type": "code",
   "execution_count": 12,
   "id": "bd536db3",
   "metadata": {},
   "outputs": [
    {
     "data": {
      "text/plain": [
       "array([[0, 1, 1, 1, 0, 0]], dtype=int64)"
      ]
     },
     "execution_count": 12,
     "metadata": {},
     "output_type": "execute_result"
    }
   ],
   "source": [
    "simple_test_dtm = vect.transform(simple_test)\n",
    "simple_test_dtm.toarray()"
   ]
  },
  {
   "cell_type": "code",
   "execution_count": 13,
   "id": "4a5b4397",
   "metadata": {},
   "outputs": [
    {
     "data": {
      "text/html": [
       "<div>\n",
       "<style scoped>\n",
       "    .dataframe tbody tr th:only-of-type {\n",
       "        vertical-align: middle;\n",
       "    }\n",
       "\n",
       "    .dataframe tbody tr th {\n",
       "        vertical-align: top;\n",
       "    }\n",
       "\n",
       "    .dataframe thead th {\n",
       "        text-align: right;\n",
       "    }\n",
       "</style>\n",
       "<table border=\"1\" class=\"dataframe\">\n",
       "  <thead>\n",
       "    <tr style=\"text-align: right;\">\n",
       "      <th></th>\n",
       "      <th>cab</th>\n",
       "      <th>call</th>\n",
       "      <th>me</th>\n",
       "      <th>please</th>\n",
       "      <th>tonight</th>\n",
       "      <th>you</th>\n",
       "    </tr>\n",
       "  </thead>\n",
       "  <tbody>\n",
       "    <tr>\n",
       "      <th>0</th>\n",
       "      <td>0</td>\n",
       "      <td>1</td>\n",
       "      <td>1</td>\n",
       "      <td>1</td>\n",
       "      <td>0</td>\n",
       "      <td>0</td>\n",
       "    </tr>\n",
       "  </tbody>\n",
       "</table>\n",
       "</div>"
      ],
      "text/plain": [
       "   cab  call  me  please  tonight  you\n",
       "0    0     1   1       1        0    0"
      ]
     },
     "execution_count": 13,
     "metadata": {},
     "output_type": "execute_result"
    }
   ],
   "source": [
    "pd.DataFrame(simple_test_dtm.toarray(), columns=vect.get_feature_names())"
   ]
  },
  {
   "cell_type": "markdown",
   "id": "7019620b",
   "metadata": {},
   "source": [
    "### Read data into pandas"
   ]
  },
  {
   "cell_type": "code",
   "execution_count": 15,
   "id": "a1227dba",
   "metadata": {},
   "outputs": [],
   "source": [
    "sms = pd.read_csv(\"./spam.csv\", encoding='latin-1')"
   ]
  },
  {
   "cell_type": "code",
   "execution_count": 16,
   "id": "acc6994a",
   "metadata": {},
   "outputs": [
    {
     "data": {
      "text/html": [
       "<div>\n",
       "<style scoped>\n",
       "    .dataframe tbody tr th:only-of-type {\n",
       "        vertical-align: middle;\n",
       "    }\n",
       "\n",
       "    .dataframe tbody tr th {\n",
       "        vertical-align: top;\n",
       "    }\n",
       "\n",
       "    .dataframe thead th {\n",
       "        text-align: right;\n",
       "    }\n",
       "</style>\n",
       "<table border=\"1\" class=\"dataframe\">\n",
       "  <thead>\n",
       "    <tr style=\"text-align: right;\">\n",
       "      <th></th>\n",
       "      <th>v1</th>\n",
       "      <th>v2</th>\n",
       "      <th>Unnamed: 2</th>\n",
       "      <th>Unnamed: 3</th>\n",
       "      <th>Unnamed: 4</th>\n",
       "    </tr>\n",
       "  </thead>\n",
       "  <tbody>\n",
       "    <tr>\n",
       "      <th>0</th>\n",
       "      <td>ham</td>\n",
       "      <td>Go until jurong point, crazy.. Available only ...</td>\n",
       "      <td>NaN</td>\n",
       "      <td>NaN</td>\n",
       "      <td>NaN</td>\n",
       "    </tr>\n",
       "    <tr>\n",
       "      <th>1</th>\n",
       "      <td>ham</td>\n",
       "      <td>Ok lar... Joking wif u oni...</td>\n",
       "      <td>NaN</td>\n",
       "      <td>NaN</td>\n",
       "      <td>NaN</td>\n",
       "    </tr>\n",
       "    <tr>\n",
       "      <th>2</th>\n",
       "      <td>spam</td>\n",
       "      <td>Free entry in 2 a wkly comp to win FA Cup fina...</td>\n",
       "      <td>NaN</td>\n",
       "      <td>NaN</td>\n",
       "      <td>NaN</td>\n",
       "    </tr>\n",
       "    <tr>\n",
       "      <th>3</th>\n",
       "      <td>ham</td>\n",
       "      <td>U dun say so early hor... U c already then say...</td>\n",
       "      <td>NaN</td>\n",
       "      <td>NaN</td>\n",
       "      <td>NaN</td>\n",
       "    </tr>\n",
       "    <tr>\n",
       "      <th>4</th>\n",
       "      <td>ham</td>\n",
       "      <td>Nah I don't think he goes to usf, he lives aro...</td>\n",
       "      <td>NaN</td>\n",
       "      <td>NaN</td>\n",
       "      <td>NaN</td>\n",
       "    </tr>\n",
       "  </tbody>\n",
       "</table>\n",
       "</div>"
      ],
      "text/plain": [
       "     v1                                                 v2 Unnamed: 2  \\\n",
       "0   ham  Go until jurong point, crazy.. Available only ...        NaN   \n",
       "1   ham                      Ok lar... Joking wif u oni...        NaN   \n",
       "2  spam  Free entry in 2 a wkly comp to win FA Cup fina...        NaN   \n",
       "3   ham  U dun say so early hor... U c already then say...        NaN   \n",
       "4   ham  Nah I don't think he goes to usf, he lives aro...        NaN   \n",
       "\n",
       "  Unnamed: 3 Unnamed: 4  \n",
       "0        NaN        NaN  \n",
       "1        NaN        NaN  \n",
       "2        NaN        NaN  \n",
       "3        NaN        NaN  \n",
       "4        NaN        NaN  "
      ]
     },
     "execution_count": 16,
     "metadata": {},
     "output_type": "execute_result"
    }
   ],
   "source": [
    "sms.head()"
   ]
  },
  {
   "cell_type": "code",
   "execution_count": 17,
   "id": "6c3ae33a",
   "metadata": {},
   "outputs": [],
   "source": [
    "sms.dropna(how='any', inplace=True, axis=1)"
   ]
  },
  {
   "cell_type": "code",
   "execution_count": 18,
   "id": "34e7d247",
   "metadata": {},
   "outputs": [
    {
     "data": {
      "text/html": [
       "<div>\n",
       "<style scoped>\n",
       "    .dataframe tbody tr th:only-of-type {\n",
       "        vertical-align: middle;\n",
       "    }\n",
       "\n",
       "    .dataframe tbody tr th {\n",
       "        vertical-align: top;\n",
       "    }\n",
       "\n",
       "    .dataframe thead th {\n",
       "        text-align: right;\n",
       "    }\n",
       "</style>\n",
       "<table border=\"1\" class=\"dataframe\">\n",
       "  <thead>\n",
       "    <tr style=\"text-align: right;\">\n",
       "      <th></th>\n",
       "      <th>v1</th>\n",
       "      <th>v2</th>\n",
       "    </tr>\n",
       "  </thead>\n",
       "  <tbody>\n",
       "    <tr>\n",
       "      <th>0</th>\n",
       "      <td>ham</td>\n",
       "      <td>Go until jurong point, crazy.. Available only ...</td>\n",
       "    </tr>\n",
       "    <tr>\n",
       "      <th>1</th>\n",
       "      <td>ham</td>\n",
       "      <td>Ok lar... Joking wif u oni...</td>\n",
       "    </tr>\n",
       "    <tr>\n",
       "      <th>2</th>\n",
       "      <td>spam</td>\n",
       "      <td>Free entry in 2 a wkly comp to win FA Cup fina...</td>\n",
       "    </tr>\n",
       "    <tr>\n",
       "      <th>3</th>\n",
       "      <td>ham</td>\n",
       "      <td>U dun say so early hor... U c already then say...</td>\n",
       "    </tr>\n",
       "    <tr>\n",
       "      <th>4</th>\n",
       "      <td>ham</td>\n",
       "      <td>Nah I don't think he goes to usf, he lives aro...</td>\n",
       "    </tr>\n",
       "  </tbody>\n",
       "</table>\n",
       "</div>"
      ],
      "text/plain": [
       "     v1                                                 v2\n",
       "0   ham  Go until jurong point, crazy.. Available only ...\n",
       "1   ham                      Ok lar... Joking wif u oni...\n",
       "2  spam  Free entry in 2 a wkly comp to win FA Cup fina...\n",
       "3   ham  U dun say so early hor... U c already then say...\n",
       "4   ham  Nah I don't think he goes to usf, he lives aro..."
      ]
     },
     "execution_count": 18,
     "metadata": {},
     "output_type": "execute_result"
    }
   ],
   "source": [
    "sms.head()"
   ]
  },
  {
   "cell_type": "code",
   "execution_count": 19,
   "id": "2bb9f28e",
   "metadata": {},
   "outputs": [],
   "source": [
    "sms.columns = ['label', 'message']"
   ]
  },
  {
   "cell_type": "code",
   "execution_count": 20,
   "id": "daaf886e",
   "metadata": {},
   "outputs": [
    {
     "data": {
      "text/html": [
       "<div>\n",
       "<style scoped>\n",
       "    .dataframe tbody tr th:only-of-type {\n",
       "        vertical-align: middle;\n",
       "    }\n",
       "\n",
       "    .dataframe tbody tr th {\n",
       "        vertical-align: top;\n",
       "    }\n",
       "\n",
       "    .dataframe thead th {\n",
       "        text-align: right;\n",
       "    }\n",
       "</style>\n",
       "<table border=\"1\" class=\"dataframe\">\n",
       "  <thead>\n",
       "    <tr style=\"text-align: right;\">\n",
       "      <th></th>\n",
       "      <th>label</th>\n",
       "      <th>message</th>\n",
       "    </tr>\n",
       "  </thead>\n",
       "  <tbody>\n",
       "    <tr>\n",
       "      <th>0</th>\n",
       "      <td>ham</td>\n",
       "      <td>Go until jurong point, crazy.. Available only ...</td>\n",
       "    </tr>\n",
       "    <tr>\n",
       "      <th>1</th>\n",
       "      <td>ham</td>\n",
       "      <td>Ok lar... Joking wif u oni...</td>\n",
       "    </tr>\n",
       "    <tr>\n",
       "      <th>2</th>\n",
       "      <td>spam</td>\n",
       "      <td>Free entry in 2 a wkly comp to win FA Cup fina...</td>\n",
       "    </tr>\n",
       "    <tr>\n",
       "      <th>3</th>\n",
       "      <td>ham</td>\n",
       "      <td>U dun say so early hor... U c already then say...</td>\n",
       "    </tr>\n",
       "    <tr>\n",
       "      <th>4</th>\n",
       "      <td>ham</td>\n",
       "      <td>Nah I don't think he goes to usf, he lives aro...</td>\n",
       "    </tr>\n",
       "  </tbody>\n",
       "</table>\n",
       "</div>"
      ],
      "text/plain": [
       "  label                                            message\n",
       "0   ham  Go until jurong point, crazy.. Available only ...\n",
       "1   ham                      Ok lar... Joking wif u oni...\n",
       "2  spam  Free entry in 2 a wkly comp to win FA Cup fina...\n",
       "3   ham  U dun say so early hor... U c already then say...\n",
       "4   ham  Nah I don't think he goes to usf, he lives aro..."
      ]
     },
     "execution_count": 20,
     "metadata": {},
     "output_type": "execute_result"
    }
   ],
   "source": [
    "sms.head()"
   ]
  },
  {
   "cell_type": "markdown",
   "id": "376792b3",
   "metadata": {},
   "source": [
    "### Exploratory Data Analysis(EDA)"
   ]
  },
  {
   "cell_type": "code",
   "execution_count": 21,
   "id": "58a8cb06",
   "metadata": {},
   "outputs": [
    {
     "data": {
      "text/html": [
       "<div>\n",
       "<style scoped>\n",
       "    .dataframe tbody tr th:only-of-type {\n",
       "        vertical-align: middle;\n",
       "    }\n",
       "\n",
       "    .dataframe tbody tr th {\n",
       "        vertical-align: top;\n",
       "    }\n",
       "\n",
       "    .dataframe thead th {\n",
       "        text-align: right;\n",
       "    }\n",
       "</style>\n",
       "<table border=\"1\" class=\"dataframe\">\n",
       "  <thead>\n",
       "    <tr style=\"text-align: right;\">\n",
       "      <th></th>\n",
       "      <th>label</th>\n",
       "      <th>message</th>\n",
       "    </tr>\n",
       "  </thead>\n",
       "  <tbody>\n",
       "    <tr>\n",
       "      <th>count</th>\n",
       "      <td>5572</td>\n",
       "      <td>5572</td>\n",
       "    </tr>\n",
       "    <tr>\n",
       "      <th>unique</th>\n",
       "      <td>2</td>\n",
       "      <td>5169</td>\n",
       "    </tr>\n",
       "    <tr>\n",
       "      <th>top</th>\n",
       "      <td>ham</td>\n",
       "      <td>Sorry, I'll call later</td>\n",
       "    </tr>\n",
       "    <tr>\n",
       "      <th>freq</th>\n",
       "      <td>4825</td>\n",
       "      <td>30</td>\n",
       "    </tr>\n",
       "  </tbody>\n",
       "</table>\n",
       "</div>"
      ],
      "text/plain": [
       "       label                 message\n",
       "count   5572                    5572\n",
       "unique     2                    5169\n",
       "top      ham  Sorry, I'll call later\n",
       "freq    4825                      30"
      ]
     },
     "execution_count": 21,
     "metadata": {},
     "output_type": "execute_result"
    }
   ],
   "source": [
    "sms.describe()"
   ]
  },
  {
   "cell_type": "code",
   "execution_count": 22,
   "id": "b3f0b611",
   "metadata": {},
   "outputs": [
    {
     "data": {
      "text/html": [
       "<div>\n",
       "<style scoped>\n",
       "    .dataframe tbody tr th:only-of-type {\n",
       "        vertical-align: middle;\n",
       "    }\n",
       "\n",
       "    .dataframe tbody tr th {\n",
       "        vertical-align: top;\n",
       "    }\n",
       "\n",
       "    .dataframe thead tr th {\n",
       "        text-align: left;\n",
       "    }\n",
       "\n",
       "    .dataframe thead tr:last-of-type th {\n",
       "        text-align: right;\n",
       "    }\n",
       "</style>\n",
       "<table border=\"1\" class=\"dataframe\">\n",
       "  <thead>\n",
       "    <tr>\n",
       "      <th></th>\n",
       "      <th colspan=\"4\" halign=\"left\">message</th>\n",
       "    </tr>\n",
       "    <tr>\n",
       "      <th></th>\n",
       "      <th>count</th>\n",
       "      <th>unique</th>\n",
       "      <th>top</th>\n",
       "      <th>freq</th>\n",
       "    </tr>\n",
       "    <tr>\n",
       "      <th>label</th>\n",
       "      <th></th>\n",
       "      <th></th>\n",
       "      <th></th>\n",
       "      <th></th>\n",
       "    </tr>\n",
       "  </thead>\n",
       "  <tbody>\n",
       "    <tr>\n",
       "      <th>ham</th>\n",
       "      <td>4825</td>\n",
       "      <td>4516</td>\n",
       "      <td>Sorry, I'll call later</td>\n",
       "      <td>30</td>\n",
       "    </tr>\n",
       "    <tr>\n",
       "      <th>spam</th>\n",
       "      <td>747</td>\n",
       "      <td>653</td>\n",
       "      <td>Please call our customer service representativ...</td>\n",
       "      <td>4</td>\n",
       "    </tr>\n",
       "  </tbody>\n",
       "</table>\n",
       "</div>"
      ],
      "text/plain": [
       "      message                                                               \n",
       "        count unique                                                top freq\n",
       "label                                                                       \n",
       "ham      4825   4516                             Sorry, I'll call later   30\n",
       "spam      747    653  Please call our customer service representativ...    4"
      ]
     },
     "execution_count": 22,
     "metadata": {},
     "output_type": "execute_result"
    }
   ],
   "source": [
    "sms.groupby('label').describe()"
   ]
  },
  {
   "cell_type": "code",
   "execution_count": 23,
   "id": "0ead4987",
   "metadata": {},
   "outputs": [],
   "source": [
    "sms['label_num'] = sms.label.map({'ham':0, 'spam': 1})"
   ]
  },
  {
   "cell_type": "code",
   "execution_count": 24,
   "id": "d87de861",
   "metadata": {},
   "outputs": [
    {
     "data": {
      "text/html": [
       "<div>\n",
       "<style scoped>\n",
       "    .dataframe tbody tr th:only-of-type {\n",
       "        vertical-align: middle;\n",
       "    }\n",
       "\n",
       "    .dataframe tbody tr th {\n",
       "        vertical-align: top;\n",
       "    }\n",
       "\n",
       "    .dataframe thead th {\n",
       "        text-align: right;\n",
       "    }\n",
       "</style>\n",
       "<table border=\"1\" class=\"dataframe\">\n",
       "  <thead>\n",
       "    <tr style=\"text-align: right;\">\n",
       "      <th></th>\n",
       "      <th>label</th>\n",
       "      <th>message</th>\n",
       "      <th>label_num</th>\n",
       "    </tr>\n",
       "  </thead>\n",
       "  <tbody>\n",
       "    <tr>\n",
       "      <th>0</th>\n",
       "      <td>ham</td>\n",
       "      <td>Go until jurong point, crazy.. Available only ...</td>\n",
       "      <td>0</td>\n",
       "    </tr>\n",
       "    <tr>\n",
       "      <th>1</th>\n",
       "      <td>ham</td>\n",
       "      <td>Ok lar... Joking wif u oni...</td>\n",
       "      <td>0</td>\n",
       "    </tr>\n",
       "    <tr>\n",
       "      <th>2</th>\n",
       "      <td>spam</td>\n",
       "      <td>Free entry in 2 a wkly comp to win FA Cup fina...</td>\n",
       "      <td>1</td>\n",
       "    </tr>\n",
       "    <tr>\n",
       "      <th>3</th>\n",
       "      <td>ham</td>\n",
       "      <td>U dun say so early hor... U c already then say...</td>\n",
       "      <td>0</td>\n",
       "    </tr>\n",
       "    <tr>\n",
       "      <th>4</th>\n",
       "      <td>ham</td>\n",
       "      <td>Nah I don't think he goes to usf, he lives aro...</td>\n",
       "      <td>0</td>\n",
       "    </tr>\n",
       "  </tbody>\n",
       "</table>\n",
       "</div>"
      ],
      "text/plain": [
       "  label                                            message  label_num\n",
       "0   ham  Go until jurong point, crazy.. Available only ...          0\n",
       "1   ham                      Ok lar... Joking wif u oni...          0\n",
       "2  spam  Free entry in 2 a wkly comp to win FA Cup fina...          1\n",
       "3   ham  U dun say so early hor... U c already then say...          0\n",
       "4   ham  Nah I don't think he goes to usf, he lives aro...          0"
      ]
     },
     "execution_count": 24,
     "metadata": {},
     "output_type": "execute_result"
    }
   ],
   "source": [
    "sms.head()"
   ]
  },
  {
   "cell_type": "markdown",
   "id": "5c828a61",
   "metadata": {},
   "source": [
    "### Feature Engineering"
   ]
  },
  {
   "cell_type": "code",
   "execution_count": 25,
   "id": "b7a6c21c",
   "metadata": {},
   "outputs": [
    {
     "data": {
      "text/html": [
       "<div>\n",
       "<style scoped>\n",
       "    .dataframe tbody tr th:only-of-type {\n",
       "        vertical-align: middle;\n",
       "    }\n",
       "\n",
       "    .dataframe tbody tr th {\n",
       "        vertical-align: top;\n",
       "    }\n",
       "\n",
       "    .dataframe thead th {\n",
       "        text-align: right;\n",
       "    }\n",
       "</style>\n",
       "<table border=\"1\" class=\"dataframe\">\n",
       "  <thead>\n",
       "    <tr style=\"text-align: right;\">\n",
       "      <th></th>\n",
       "      <th>label</th>\n",
       "      <th>message</th>\n",
       "      <th>label_num</th>\n",
       "      <th>message_len</th>\n",
       "    </tr>\n",
       "  </thead>\n",
       "  <tbody>\n",
       "    <tr>\n",
       "      <th>0</th>\n",
       "      <td>ham</td>\n",
       "      <td>Go until jurong point, crazy.. Available only ...</td>\n",
       "      <td>0</td>\n",
       "      <td>111</td>\n",
       "    </tr>\n",
       "    <tr>\n",
       "      <th>1</th>\n",
       "      <td>ham</td>\n",
       "      <td>Ok lar... Joking wif u oni...</td>\n",
       "      <td>0</td>\n",
       "      <td>29</td>\n",
       "    </tr>\n",
       "    <tr>\n",
       "      <th>2</th>\n",
       "      <td>spam</td>\n",
       "      <td>Free entry in 2 a wkly comp to win FA Cup fina...</td>\n",
       "      <td>1</td>\n",
       "      <td>155</td>\n",
       "    </tr>\n",
       "    <tr>\n",
       "      <th>3</th>\n",
       "      <td>ham</td>\n",
       "      <td>U dun say so early hor... U c already then say...</td>\n",
       "      <td>0</td>\n",
       "      <td>49</td>\n",
       "    </tr>\n",
       "    <tr>\n",
       "      <th>4</th>\n",
       "      <td>ham</td>\n",
       "      <td>Nah I don't think he goes to usf, he lives aro...</td>\n",
       "      <td>0</td>\n",
       "      <td>61</td>\n",
       "    </tr>\n",
       "  </tbody>\n",
       "</table>\n",
       "</div>"
      ],
      "text/plain": [
       "  label                                            message  label_num  \\\n",
       "0   ham  Go until jurong point, crazy.. Available only ...          0   \n",
       "1   ham                      Ok lar... Joking wif u oni...          0   \n",
       "2  spam  Free entry in 2 a wkly comp to win FA Cup fina...          1   \n",
       "3   ham  U dun say so early hor... U c already then say...          0   \n",
       "4   ham  Nah I don't think he goes to usf, he lives aro...          0   \n",
       "\n",
       "   message_len  \n",
       "0          111  \n",
       "1           29  \n",
       "2          155  \n",
       "3           49  \n",
       "4           61  "
      ]
     },
     "execution_count": 25,
     "metadata": {},
     "output_type": "execute_result"
    }
   ],
   "source": [
    "sms['message_len'] = sms.message.apply(len)\n",
    "sms.head()"
   ]
  },
  {
   "cell_type": "code",
   "execution_count": 26,
   "id": "4cb7e7a9",
   "metadata": {},
   "outputs": [
    {
     "data": {
      "text/plain": [
       "80.11880832735105"
      ]
     },
     "execution_count": 26,
     "metadata": {},
     "output_type": "execute_result"
    }
   ],
   "source": [
    "sms['message_len'].mean()"
   ]
  },
  {
   "cell_type": "code",
   "execution_count": 32,
   "id": "0f6fa312",
   "metadata": {},
   "outputs": [
    {
     "data": {
      "image/png": "[encoded data removed]",
      "text/plain": [
       "<Figure size 864x576 with 1 Axes>"
      ]
     },
     "metadata": {},
     "output_type": "display_data"
    }
   ],
   "source": [
    "#plt.show()를 하는 경우 범례 추가가 되지 않음. \n",
    "\n",
    "plt.figure(figsize=(12, 8))\n",
    "sms[sms.label == 'ham'].message_len.plot(bins=35, kind='hist', color='blue', label='ham message', alpha=0.6)\n",
    "sms[sms.label == 'spam'].message_len.plot(kind='hist', color='red', label='spam message', alpha=0.6)\n",
    "\n",
    "plt.show()\n",
    "#plt.legend()\n",
    "#plt.xlabel(\"Message Length\")"
   ]
  },
  {
   "cell_type": "code",
   "execution_count": 33,
   "id": "1386be62",
   "metadata": {},
   "outputs": [
    {
     "data": {
      "text/plain": [
       "Text(0.5, 0, 'Message Length')"
      ]
     },
     "execution_count": 33,
     "metadata": {},
     "output_type": "execute_result"
    },
    {
     "data": {
      "image/png": "[encoded data removed]",
      "text/plain": [
       "<Figure size 864x576 with 1 Axes>"
      ]
     },
     "metadata": {},
     "output_type": "display_data"
    }
   ],
   "source": [
    "plt.figure(figsize=(12, 8))\n",
    "sms[sms.label == 'ham'].message_len.plot(bins=35, kind='hist', color='blue', label='ham message', alpha=0.6)\n",
    "sms[sms.label == 'spam'].message_len.plot(kind='hist', color='red', label='spam message', alpha=0.6)\n",
    "\n",
    "plt.legend()\n",
    "plt.xlabel(\"Message Length\")"
   ]
  },
  {
   "cell_type": "code",
   "execution_count": 34,
   "id": "d68f23c2",
   "metadata": {},
   "outputs": [
    {
     "data": {
      "text/html": [
       "<div>\n",
       "<style scoped>\n",
       "    .dataframe tbody tr th:only-of-type {\n",
       "        vertical-align: middle;\n",
       "    }\n",
       "\n",
       "    .dataframe tbody tr th {\n",
       "        vertical-align: top;\n",
       "    }\n",
       "\n",
       "    .dataframe thead th {\n",
       "        text-align: right;\n",
       "    }\n",
       "</style>\n",
       "<table border=\"1\" class=\"dataframe\">\n",
       "  <thead>\n",
       "    <tr style=\"text-align: right;\">\n",
       "      <th></th>\n",
       "      <th>label_num</th>\n",
       "      <th>message_len</th>\n",
       "    </tr>\n",
       "  </thead>\n",
       "  <tbody>\n",
       "    <tr>\n",
       "      <th>count</th>\n",
       "      <td>4825.0</td>\n",
       "      <td>4825.000000</td>\n",
       "    </tr>\n",
       "    <tr>\n",
       "      <th>mean</th>\n",
       "      <td>0.0</td>\n",
       "      <td>71.023627</td>\n",
       "    </tr>\n",
       "    <tr>\n",
       "      <th>std</th>\n",
       "      <td>0.0</td>\n",
       "      <td>58.016023</td>\n",
       "    </tr>\n",
       "    <tr>\n",
       "      <th>min</th>\n",
       "      <td>0.0</td>\n",
       "      <td>2.000000</td>\n",
       "    </tr>\n",
       "    <tr>\n",
       "      <th>25%</th>\n",
       "      <td>0.0</td>\n",
       "      <td>33.000000</td>\n",
       "    </tr>\n",
       "    <tr>\n",
       "      <th>50%</th>\n",
       "      <td>0.0</td>\n",
       "      <td>52.000000</td>\n",
       "    </tr>\n",
       "    <tr>\n",
       "      <th>75%</th>\n",
       "      <td>0.0</td>\n",
       "      <td>92.000000</td>\n",
       "    </tr>\n",
       "    <tr>\n",
       "      <th>max</th>\n",
       "      <td>0.0</td>\n",
       "      <td>910.000000</td>\n",
       "    </tr>\n",
       "  </tbody>\n",
       "</table>\n",
       "</div>"
      ],
      "text/plain": [
       "       label_num  message_len\n",
       "count     4825.0  4825.000000\n",
       "mean         0.0    71.023627\n",
       "std          0.0    58.016023\n",
       "min          0.0     2.000000\n",
       "25%          0.0    33.000000\n",
       "50%          0.0    52.000000\n",
       "75%          0.0    92.000000\n",
       "max          0.0   910.000000"
      ]
     },
     "execution_count": 34,
     "metadata": {},
     "output_type": "execute_result"
    }
   ],
   "source": [
    "sms[sms.label=='ham'].describe()"
   ]
  },
  {
   "cell_type": "code",
   "execution_count": 35,
   "id": "b7aa55ce",
   "metadata": {},
   "outputs": [
    {
     "data": {
      "text/html": [
       "<div>\n",
       "<style scoped>\n",
       "    .dataframe tbody tr th:only-of-type {\n",
       "        vertical-align: middle;\n",
       "    }\n",
       "\n",
       "    .dataframe tbody tr th {\n",
       "        vertical-align: top;\n",
       "    }\n",
       "\n",
       "    .dataframe thead th {\n",
       "        text-align: right;\n",
       "    }\n",
       "</style>\n",
       "<table border=\"1\" class=\"dataframe\">\n",
       "  <thead>\n",
       "    <tr style=\"text-align: right;\">\n",
       "      <th></th>\n",
       "      <th>label_num</th>\n",
       "      <th>message_len</th>\n",
       "    </tr>\n",
       "  </thead>\n",
       "  <tbody>\n",
       "    <tr>\n",
       "      <th>count</th>\n",
       "      <td>747.0</td>\n",
       "      <td>747.000000</td>\n",
       "    </tr>\n",
       "    <tr>\n",
       "      <th>mean</th>\n",
       "      <td>1.0</td>\n",
       "      <td>138.866131</td>\n",
       "    </tr>\n",
       "    <tr>\n",
       "      <th>std</th>\n",
       "      <td>0.0</td>\n",
       "      <td>29.183082</td>\n",
       "    </tr>\n",
       "    <tr>\n",
       "      <th>min</th>\n",
       "      <td>1.0</td>\n",
       "      <td>13.000000</td>\n",
       "    </tr>\n",
       "    <tr>\n",
       "      <th>25%</th>\n",
       "      <td>1.0</td>\n",
       "      <td>132.500000</td>\n",
       "    </tr>\n",
       "    <tr>\n",
       "      <th>50%</th>\n",
       "      <td>1.0</td>\n",
       "      <td>149.000000</td>\n",
       "    </tr>\n",
       "    <tr>\n",
       "      <th>75%</th>\n",
       "      <td>1.0</td>\n",
       "      <td>157.000000</td>\n",
       "    </tr>\n",
       "    <tr>\n",
       "      <th>max</th>\n",
       "      <td>1.0</td>\n",
       "      <td>224.000000</td>\n",
       "    </tr>\n",
       "  </tbody>\n",
       "</table>\n",
       "</div>"
      ],
      "text/plain": [
       "       label_num  message_len\n",
       "count      747.0   747.000000\n",
       "mean         1.0   138.866131\n",
       "std          0.0    29.183082\n",
       "min          1.0    13.000000\n",
       "25%          1.0   132.500000\n",
       "50%          1.0   149.000000\n",
       "75%          1.0   157.000000\n",
       "max          1.0   224.000000"
      ]
     },
     "execution_count": 35,
     "metadata": {},
     "output_type": "execute_result"
    }
   ],
   "source": [
    "sms[sms.label=='spam'].describe()"
   ]
  },
  {
   "cell_type": "code",
   "execution_count": 40,
   "id": "e6629952",
   "metadata": {},
   "outputs": [
    {
     "data": {
      "text/plain": [
       "<reversed at 0x2da6f349cc8>"
      ]
     },
     "execution_count": 40,
     "metadata": {},
     "output_type": "execute_result"
    }
   ],
   "source": [
    "reversed(sms['message_len'])"
   ]
  },
  {
   "cell_type": "code",
   "execution_count": 42,
   "id": "d810f72d",
   "metadata": {},
   "outputs": [
    {
     "data": {
      "text/html": [
       "<div>\n",
       "<style scoped>\n",
       "    .dataframe tbody tr th:only-of-type {\n",
       "        vertical-align: middle;\n",
       "    }\n",
       "\n",
       "    .dataframe tbody tr th {\n",
       "        vertical-align: top;\n",
       "    }\n",
       "\n",
       "    .dataframe thead th {\n",
       "        text-align: right;\n",
       "    }\n",
       "</style>\n",
       "<table border=\"1\" class=\"dataframe\">\n",
       "  <thead>\n",
       "    <tr style=\"text-align: right;\">\n",
       "      <th></th>\n",
       "      <th>label</th>\n",
       "      <th>message</th>\n",
       "      <th>label_num</th>\n",
       "      <th>message_len</th>\n",
       "    </tr>\n",
       "  </thead>\n",
       "  <tbody>\n",
       "    <tr>\n",
       "      <th>0</th>\n",
       "      <td>ham</td>\n",
       "      <td>Go until jurong point, crazy.. Available only ...</td>\n",
       "      <td>0</td>\n",
       "      <td>111</td>\n",
       "    </tr>\n",
       "    <tr>\n",
       "      <th>1</th>\n",
       "      <td>ham</td>\n",
       "      <td>Ok lar... Joking wif u oni...</td>\n",
       "      <td>0</td>\n",
       "      <td>29</td>\n",
       "    </tr>\n",
       "    <tr>\n",
       "      <th>2</th>\n",
       "      <td>spam</td>\n",
       "      <td>Free entry in 2 a wkly comp to win FA Cup fina...</td>\n",
       "      <td>1</td>\n",
       "      <td>155</td>\n",
       "    </tr>\n",
       "    <tr>\n",
       "      <th>3</th>\n",
       "      <td>ham</td>\n",
       "      <td>U dun say so early hor... U c already then say...</td>\n",
       "      <td>0</td>\n",
       "      <td>49</td>\n",
       "    </tr>\n",
       "    <tr>\n",
       "      <th>4</th>\n",
       "      <td>ham</td>\n",
       "      <td>Nah I don't think he goes to usf, he lives aro...</td>\n",
       "      <td>0</td>\n",
       "      <td>61</td>\n",
       "    </tr>\n",
       "  </tbody>\n",
       "</table>\n",
       "</div>"
      ],
      "text/plain": [
       "  label                                            message  label_num  \\\n",
       "0   ham  Go until jurong point, crazy.. Available only ...          0   \n",
       "1   ham                      Ok lar... Joking wif u oni...          0   \n",
       "2  spam  Free entry in 2 a wkly comp to win FA Cup fina...          1   \n",
       "3   ham  U dun say so early hor... U c already then say...          0   \n",
       "4   ham  Nah I don't think he goes to usf, he lives aro...          0   \n",
       "\n",
       "   message_len  \n",
       "0          111  \n",
       "1           29  \n",
       "2          155  \n",
       "3           49  \n",
       "4           61  "
      ]
     },
     "execution_count": 42,
     "metadata": {},
     "output_type": "execute_result"
    }
   ],
   "source": [
    "sms.head()"
   ]
  },
  {
   "cell_type": "code",
   "execution_count": 43,
   "id": "8cfa1602",
   "metadata": {},
   "outputs": [],
   "source": [
    "message_len_ham = sms['message_len']"
   ]
  },
  {
   "cell_type": "code",
   "execution_count": 45,
   "id": "4f4e05ca",
   "metadata": {},
   "outputs": [
    {
     "data": {
      "text/plain": [
       "0    111\n",
       "1     29\n",
       "2    155\n",
       "3     49\n",
       "4     61\n",
       "Name: message_len, dtype: int64"
      ]
     },
     "execution_count": 45,
     "metadata": {},
     "output_type": "execute_result"
    }
   ],
   "source": [
    "message_len_ham.head()"
   ]
  },
  {
   "cell_type": "code",
   "execution_count": 49,
   "id": "ae7aa69c",
   "metadata": {},
   "outputs": [
    {
     "data": {
      "text/plain": [
       "[910,\n",
       " 790,\n",
       " 632,\n",
       " 611,\n",
       " 588,\n",
       " 588,\n",
       " 482,\n",
       " 461,\n",
       " 458,\n",
       " 450,\n",
       " 450,\n",
       " 444,\n",
       " 444,\n",
       " 444,\n",
       " 431,\n",
       " 415,\n",
       " 408,\n",
       " 384,\n",
       " 382,\n",
       " 381,\n",
       " 375,\n",
       " 372,\n",
       " 368,\n",
       " 363,\n",
       " 338,\n",
       " 332,\n",
       " 329,\n",
       " 329,\n",
       " 329,\n",
       " 327,\n",
       " 327,\n",
       " 322,\n",
       " 320,\n",
       " 306,\n",
       " 302,\n",
       " 300,\n",
       " 299,\n",
       " 298,\n",
       " 297,\n",
       " 295,\n",
       " 293,\n",
       " 291,\n",
       " 290,\n",
       " 289,\n",
       " 287,\n",
       " 283,\n",
       " 281,\n",
       " 281,\n",
       " 281,\n",
       " 281,\n",
       " 278,\n",
       " 278,\n",
       " 278,\n",
       " 276,\n",
       " 276,\n",
       " 276,\n",
       " 276,\n",
       " 276,\n",
       " 274,\n",
       " 273,\n",
       " 269,\n",
       " 269,\n",
       " 263,\n",
       " 263,\n",
       " 257,\n",
       " 256,\n",
       " 255,\n",
       " 251,\n",
       " 248,\n",
       " 247,\n",
       " 245,\n",
       " 245,\n",
       " 244,\n",
       " 244,\n",
       " 243,\n",
       " 242,\n",
       " 240,\n",
       " 237,\n",
       " 237,\n",
       " 237,\n",
       " 236,\n",
       " 235,\n",
       " 234,\n",
       " 232,\n",
       " 231,\n",
       " 230,\n",
       " 229,\n",
       " 228,\n",
       " 226,\n",
       " 224,\n",
       " 224,\n",
       " 221,\n",
       " 221,\n",
       " 220,\n",
       " 220,\n",
       " 215,\n",
       " 212,\n",
       " 212,\n",
       " 210,\n",
       " 208,\n",
       " 207,\n",
       " 205,\n",
       " 205,\n",
       " 205,\n",
       " 204,\n",
       " 204,\n",
       " 203,\n",
       " 202,\n",
       " 202,\n",
       " 202,\n",
       " 201,\n",
       " 201,\n",
       " 200,\n",
       " 200,\n",
       " 198,\n",
       " 198,\n",
       " 197,\n",
       " 196,\n",
       " 195,\n",
       " 195,\n",
       " 194,\n",
       " 193,\n",
       " 193,\n",
       " 192,\n",
       " 191,\n",
       " 191,\n",
       " 191,\n",
       " 190,\n",
       " 189,\n",
       " 189,\n",
       " 189,\n",
       " 188,\n",
       " 185,\n",
       " 185,\n",
       " 184,\n",
       " 184,\n",
       " 184,\n",
       " 183,\n",
       " 183,\n",
       " 183,\n",
       " 183,\n",
       " 183,\n",
       " 183,\n",
       " 181,\n",
       " 181,\n",
       " 181,\n",
       " 180,\n",
       " 180,\n",
       " 180,\n",
       " 180,\n",
       " 179,\n",
       " 179,\n",
       " 179,\n",
       " 179,\n",
       " 179,\n",
       " 179,\n",
       " 179,\n",
       " 179,\n",
       " 177,\n",
       " 177,\n",
       " 176,\n",
       " 176,\n",
       " 175,\n",
       " 175,\n",
       " 175,\n",
       " 175,\n",
       " 175,\n",
       " 174,\n",
       " 174,\n",
       " 174,\n",
       " 174,\n",
       " 173,\n",
       " 173,\n",
       " 173,\n",
       " 172,\n",
       " 172,\n",
       " 172,\n",
       " 172,\n",
       " 171,\n",
       " 171,\n",
       " 170,\n",
       " 170,\n",
       " 169,\n",
       " 169,\n",
       " 169,\n",
       " 169,\n",
       " 169,\n",
       " 169,\n",
       " 169,\n",
       " 169,\n",
       " 169,\n",
       " 168,\n",
       " 168,\n",
       " 168,\n",
       " 168,\n",
       " 168,\n",
       " 167,\n",
       " 167,\n",
       " 167,\n",
       " 167,\n",
       " 166,\n",
       " 166,\n",
       " 166,\n",
       " 166,\n",
       " 166,\n",
       " 166,\n",
       " 166,\n",
       " 166,\n",
       " 166,\n",
       " 166,\n",
       " 166,\n",
       " 166,\n",
       " 166,\n",
       " 165,\n",
       " 165,\n",
       " 165,\n",
       " 165,\n",
       " 165,\n",
       " 165,\n",
       " 164,\n",
       " 164,\n",
       " 164,\n",
       " 164,\n",
       " 164,\n",
       " 164,\n",
       " 164,\n",
       " 164,\n",
       " 163,\n",
       " 163,\n",
       " 163,\n",
       " 163,\n",
       " 163,\n",
       " 163,\n",
       " 163,\n",
       " 163,\n",
       " 163,\n",
       " 163,\n",
       " 163,\n",
       " 163,\n",
       " 163,\n",
       " 163,\n",
       " 163,\n",
       " 163,\n",
       " 163,\n",
       " 162,\n",
       " 162,\n",
       " 162,\n",
       " 162,\n",
       " 162,\n",
       " 162,\n",
       " 162,\n",
       " 162,\n",
       " 162,\n",
       " 162,\n",
       " 162,\n",
       " 162,\n",
       " 162,\n",
       " 162,\n",
       " 162,\n",
       " 162,\n",
       " 162,\n",
       " 162,\n",
       " 162,\n",
       " 162,\n",
       " 162,\n",
       " 162,\n",
       " 162,\n",
       " 162,\n",
       " 161,\n",
       " 161,\n",
       " 161,\n",
       " 161,\n",
       " 161,\n",
       " 161,\n",
       " 161,\n",
       " 161,\n",
       " 161,\n",
       " 161,\n",
       " 161,\n",
       " 161,\n",
       " 161,\n",
       " 161,\n",
       " 161,\n",
       " 161,\n",
       " 161,\n",
       " 161,\n",
       " 161,\n",
       " 161,\n",
       " 161,\n",
       " 161,\n",
       " 161,\n",
       " 161,\n",
       " 161,\n",
       " 161,\n",
       " 161,\n",
       " 161,\n",
       " 160,\n",
       " 160,\n",
       " 160,\n",
       " 160,\n",
       " 160,\n",
       " 160,\n",
       " 160,\n",
       " 160,\n",
       " 160,\n",
       " 160,\n",
       " 160,\n",
       " 160,\n",
       " 160,\n",
       " 160,\n",
       " 160,\n",
       " 160,\n",
       " 160,\n",
       " 160,\n",
       " 160,\n",
       " 160,\n",
       " 160,\n",
       " 160,\n",
       " 160,\n",
       " 160,\n",
       " 160,\n",
       " 160,\n",
       " 160,\n",
       " 160,\n",
       " 160,\n",
       " 160,\n",
       " 160,\n",
       " 160,\n",
       " 160,\n",
       " 160,\n",
       " 160,\n",
       " 160,\n",
       " 160,\n",
       " 160,\n",
       " 160,\n",
       " 160,\n",
       " 160,\n",
       " 160,\n",
       " 160,\n",
       " 160,\n",
       " 160,\n",
       " 160,\n",
       " 160,\n",
       " 160,\n",
       " 160,\n",
       " 160,\n",
       " 160,\n",
       " 160,\n",
       " 160,\n",
       " 160,\n",
       " 160,\n",
       " 160,\n",
       " 160,\n",
       " 160,\n",
       " 160,\n",
       " 159,\n",
       " 159,\n",
       " 159,\n",
       " 159,\n",
       " 159,\n",
       " 159,\n",
       " 159,\n",
       " 159,\n",
       " 159,\n",
       " 159,\n",
       " 159,\n",
       " 159,\n",
       " 159,\n",
       " 159,\n",
       " 159,\n",
       " 159,\n",
       " 159,\n",
       " 159,\n",
       " 159,\n",
       " 159,\n",
       " 159,\n",
       " 159,\n",
       " 159,\n",
       " 159,\n",
       " 159,\n",
       " 159,\n",
       " 159,\n",
       " 159,\n",
       " 159,\n",
       " 159,\n",
       " 159,\n",
       " 159,\n",
       " 159,\n",
       " 159,\n",
       " 159,\n",
       " 159,\n",
       " 159,\n",
       " 159,\n",
       " 159,\n",
       " 159,\n",
       " 159,\n",
       " 159,\n",
       " 159,\n",
       " 159,\n",
       " 159,\n",
       " 159,\n",
       " 159,\n",
       " 159,\n",
       " 159,\n",
       " 159,\n",
       " 159,\n",
       " 159,\n",
       " 159,\n",
       " 159,\n",
       " 159,\n",
       " 159,\n",
       " 159,\n",
       " 159,\n",
       " 158,\n",
       " 158,\n",
       " 158,\n",
       " 158,\n",
       " 158,\n",
       " 158,\n",
       " 158,\n",
       " 158,\n",
       " 158,\n",
       " 158,\n",
       " 158,\n",
       " 158,\n",
       " 158,\n",
       " 158,\n",
       " 158,\n",
       " 158,\n",
       " 158,\n",
       " 158,\n",
       " 158,\n",
       " 158,\n",
       " 158,\n",
       " 158,\n",
       " 158,\n",
       " 158,\n",
       " 158,\n",
       " 158,\n",
       " 158,\n",
       " 158,\n",
       " 158,\n",
       " 158,\n",
       " 158,\n",
       " 158,\n",
       " 158,\n",
       " 158,\n",
       " 158,\n",
       " 158,\n",
       " 158,\n",
       " 158,\n",
       " 158,\n",
       " 158,\n",
       " 158,\n",
       " 158,\n",
       " 158,\n",
       " 158,\n",
       " 158,\n",
       " 158,\n",
       " 158,\n",
       " 158,\n",
       " 158,\n",
       " 158,\n",
       " 158,\n",
       " 158,\n",
       " 158,\n",
       " 158,\n",
       " 158,\n",
       " 158,\n",
       " 158,\n",
       " 158,\n",
       " 158,\n",
       " 158,\n",
       " 157,\n",
       " 157,\n",
       " 157,\n",
       " 157,\n",
       " 157,\n",
       " 157,\n",
       " 157,\n",
       " 157,\n",
       " 157,\n",
       " 157,\n",
       " 157,\n",
       " 157,\n",
       " 157,\n",
       " 157,\n",
       " 157,\n",
       " 157,\n",
       " 157,\n",
       " 157,\n",
       " 157,\n",
       " 157,\n",
       " 157,\n",
       " 157,\n",
       " 157,\n",
       " 157,\n",
       " 157,\n",
       " 157,\n",
       " 157,\n",
       " 157,\n",
       " 157,\n",
       " 157,\n",
       " 157,\n",
       " 157,\n",
       " 157,\n",
       " 157,\n",
       " 157,\n",
       " 157,\n",
       " 157,\n",
       " 157,\n",
       " 157,\n",
       " 157,\n",
       " 157,\n",
       " 157,\n",
       " 157,\n",
       " 157,\n",
       " 157,\n",
       " 157,\n",
       " 157,\n",
       " 156,\n",
       " 156,\n",
       " 156,\n",
       " 156,\n",
       " 156,\n",
       " 156,\n",
       " 156,\n",
       " 156,\n",
       " 156,\n",
       " 156,\n",
       " 156,\n",
       " 156,\n",
       " 156,\n",
       " 156,\n",
       " 156,\n",
       " 156,\n",
       " 156,\n",
       " 156,\n",
       " 156,\n",
       " 156,\n",
       " 156,\n",
       " 156,\n",
       " 156,\n",
       " 156,\n",
       " 156,\n",
       " 156,\n",
       " 156,\n",
       " 156,\n",
       " 156,\n",
       " 156,\n",
       " 156,\n",
       " 156,\n",
       " 156,\n",
       " 156,\n",
       " 156,\n",
       " 156,\n",
       " 156,\n",
       " 156,\n",
       " 156,\n",
       " 156,\n",
       " 156,\n",
       " 156,\n",
       " 156,\n",
       " 156,\n",
       " 156,\n",
       " 156,\n",
       " 156,\n",
       " 156,\n",
       " 156,\n",
       " 156,\n",
       " 156,\n",
       " 156,\n",
       " 156,\n",
       " 156,\n",
       " 156,\n",
       " 155,\n",
       " 155,\n",
       " 155,\n",
       " 155,\n",
       " 155,\n",
       " 155,\n",
       " 155,\n",
       " 155,\n",
       " 155,\n",
       " 155,\n",
       " 155,\n",
       " 155,\n",
       " 155,\n",
       " 155,\n",
       " 155,\n",
       " 155,\n",
       " 155,\n",
       " 155,\n",
       " 155,\n",
       " 155,\n",
       " 155,\n",
       " 155,\n",
       " 155,\n",
       " 155,\n",
       " 155,\n",
       " 155,\n",
       " 155,\n",
       " 155,\n",
       " 155,\n",
       " 155,\n",
       " 155,\n",
       " 155,\n",
       " 155,\n",
       " 155,\n",
       " 155,\n",
       " 155,\n",
       " 155,\n",
       " 155,\n",
       " 155,\n",
       " 155,\n",
       " 155,\n",
       " 155,\n",
       " 155,\n",
       " 155,\n",
       " 155,\n",
       " 155,\n",
       " 155,\n",
       " 155,\n",
       " 155,\n",
       " 154,\n",
       " 154,\n",
       " 154,\n",
       " 154,\n",
       " 154,\n",
       " 154,\n",
       " 154,\n",
       " 154,\n",
       " 154,\n",
       " 154,\n",
       " 154,\n",
       " 154,\n",
       " 154,\n",
       " 154,\n",
       " 154,\n",
       " 154,\n",
       " 154,\n",
       " 154,\n",
       " 154,\n",
       " 154,\n",
       " 154,\n",
       " 154,\n",
       " 154,\n",
       " 154,\n",
       " 154,\n",
       " 154,\n",
       " 154,\n",
       " 154,\n",
       " 154,\n",
       " 154,\n",
       " 154,\n",
       " 154,\n",
       " 154,\n",
       " 154,\n",
       " 154,\n",
       " 154,\n",
       " 154,\n",
       " 154,\n",
       " 154,\n",
       " 154,\n",
       " 154,\n",
       " 154,\n",
       " 153,\n",
       " 153,\n",
       " 153,\n",
       " 153,\n",
       " 153,\n",
       " 153,\n",
       " 153,\n",
       " 153,\n",
       " 153,\n",
       " 153,\n",
       " 153,\n",
       " 153,\n",
       " 153,\n",
       " 153,\n",
       " 153,\n",
       " 153,\n",
       " 153,\n",
       " 153,\n",
       " 153,\n",
       " 153,\n",
       " 153,\n",
       " 153,\n",
       " 153,\n",
       " 153,\n",
       " 153,\n",
       " 153,\n",
       " 153,\n",
       " 153,\n",
       " 153,\n",
       " 153,\n",
       " 153,\n",
       " 153,\n",
       " 153,\n",
       " 153,\n",
       " 153,\n",
       " 153,\n",
       " 153,\n",
       " 153,\n",
       " 153,\n",
       " 153,\n",
       " 153,\n",
       " 153,\n",
       " 153,\n",
       " 153,\n",
       " 153,\n",
       " 153,\n",
       " 153,\n",
       " 152,\n",
       " 152,\n",
       " 152,\n",
       " 152,\n",
       " 152,\n",
       " 152,\n",
       " 152,\n",
       " 152,\n",
       " 152,\n",
       " 152,\n",
       " 152,\n",
       " 152,\n",
       " 152,\n",
       " 152,\n",
       " 152,\n",
       " 152,\n",
       " 152,\n",
       " 152,\n",
       " 152,\n",
       " 152,\n",
       " 152,\n",
       " 152,\n",
       " 152,\n",
       " 152,\n",
       " 152,\n",
       " 152,\n",
       " 152,\n",
       " 152,\n",
       " 152,\n",
       " 152,\n",
       " 152,\n",
       " 152,\n",
       " 152,\n",
       " 152,\n",
       " 152,\n",
       " 152,\n",
       " 152,\n",
       " 151,\n",
       " 151,\n",
       " 151,\n",
       " 151,\n",
       " 151,\n",
       " 151,\n",
       " 151,\n",
       " 151,\n",
       " 151,\n",
       " 151,\n",
       " 151,\n",
       " 151,\n",
       " 151,\n",
       " 151,\n",
       " 151,\n",
       " 151,\n",
       " 151,\n",
       " 151,\n",
       " 151,\n",
       " 151,\n",
       " 150,\n",
       " 150,\n",
       " 150,\n",
       " 150,\n",
       " 150,\n",
       " 150,\n",
       " 150,\n",
       " 150,\n",
       " 150,\n",
       " 150,\n",
       " 150,\n",
       " 150,\n",
       " 150,\n",
       " 150,\n",
       " 150,\n",
       " 150,\n",
       " 150,\n",
       " 150,\n",
       " 150,\n",
       " 150,\n",
       " 150,\n",
       " 150,\n",
       " 150,\n",
       " 150,\n",
       " 149,\n",
       " 149,\n",
       " 149,\n",
       " 149,\n",
       " 149,\n",
       " 149,\n",
       " 149,\n",
       " 149,\n",
       " 149,\n",
       " 149,\n",
       " 149,\n",
       " 149,\n",
       " 149,\n",
       " 149,\n",
       " 149,\n",
       " 149,\n",
       " 149,\n",
       " 149,\n",
       " 149,\n",
       " 149,\n",
       " 149,\n",
       " 149,\n",
       " 149,\n",
       " 149,\n",
       " 149,\n",
       " 149,\n",
       " 149,\n",
       " 149,\n",
       " 149,\n",
       " 149,\n",
       " 149,\n",
       " 149,\n",
       " 149,\n",
       " 149,\n",
       " 149,\n",
       " 149,\n",
       " 148,\n",
       " 148,\n",
       " 148,\n",
       " 148,\n",
       " 148,\n",
       " 148,\n",
       " 148,\n",
       " 148,\n",
       " 148,\n",
       " 148,\n",
       " 148,\n",
       " 148,\n",
       " 148,\n",
       " 148,\n",
       " 148,\n",
       " 148,\n",
       " 148,\n",
       " 148,\n",
       " 148,\n",
       " 148,\n",
       " 148,\n",
       " 148,\n",
       " 148,\n",
       " 148,\n",
       " 148,\n",
       " 148,\n",
       " 148,\n",
       " 148,\n",
       " 148,\n",
       " 148,\n",
       " 147,\n",
       " 147,\n",
       " 147,\n",
       " 147,\n",
       " 147,\n",
       " 147,\n",
       " 147,\n",
       " 147,\n",
       " 147,\n",
       " 147,\n",
       " 147,\n",
       " 147,\n",
       " 147,\n",
       " 147,\n",
       " 147,\n",
       " 147,\n",
       " 147,\n",
       " 147,\n",
       " 147,\n",
       " 147,\n",
       " 147,\n",
       " 147,\n",
       " 147,\n",
       " 147,\n",
       " 147,\n",
       " 147,\n",
       " 147,\n",
       " 147,\n",
       " 147,\n",
       " 147,\n",
       " 146,\n",
       " 146,\n",
       " 146,\n",
       " 146,\n",
       " 146,\n",
       " 146,\n",
       " 146,\n",
       " 146,\n",
       " 146,\n",
       " 146,\n",
       " 146,\n",
       " 146,\n",
       " 146,\n",
       " 146,\n",
       " 146,\n",
       " 146,\n",
       " 146,\n",
       " 146,\n",
       " 146,\n",
       " 146,\n",
       " 146,\n",
       " 146,\n",
       " 146,\n",
       " 146,\n",
       " 146,\n",
       " 145,\n",
       " 145,\n",
       " 145,\n",
       " 145,\n",
       " 145,\n",
       " 145,\n",
       " 145,\n",
       " 145,\n",
       " 145,\n",
       " 145,\n",
       " 145,\n",
       " 145,\n",
       " 145,\n",
       " 145,\n",
       " 145,\n",
       " 145,\n",
       " 145,\n",
       " 145,\n",
       " 145,\n",
       " 145,\n",
       " 145,\n",
       " 145,\n",
       " 145,\n",
       " 144,\n",
       " 144,\n",
       " 144,\n",
       " 144,\n",
       " 144,\n",
       " 144,\n",
       " 144,\n",
       " 144,\n",
       " 144,\n",
       " 144,\n",
       " 144,\n",
       " 144,\n",
       " 144,\n",
       " 144,\n",
       " 144,\n",
       " 144,\n",
       " 144,\n",
       " 144,\n",
       " 144,\n",
       " 144,\n",
       " 144,\n",
       " 143,\n",
       " 143,\n",
       " 143,\n",
       " 143,\n",
       " 143,\n",
       " 143,\n",
       " 143,\n",
       " 143,\n",
       " 143,\n",
       " 143,\n",
       " 143,\n",
       " 143,\n",
       " 143,\n",
       " 143,\n",
       " 143,\n",
       " 143,\n",
       " 143,\n",
       " 143,\n",
       " 143,\n",
       " 143,\n",
       " 143,\n",
       " 143,\n",
       " 143,\n",
       " 143,\n",
       " 143,\n",
       " 143,\n",
       " 143,\n",
       " 143,\n",
       " 143,\n",
       " 143,\n",
       " 143,\n",
       " 142,\n",
       " 142,\n",
       " 142,\n",
       " 142,\n",
       " 142,\n",
       " 142,\n",
       " 142,\n",
       " 142,\n",
       " 142,\n",
       " 142,\n",
       " ...]"
      ]
     },
     "execution_count": 49,
     "metadata": {},
     "output_type": "execute_result"
    }
   ],
   "source": [
    "sorted(message_len_ham, reverse=True)"
   ]
  },
  {
   "cell_type": "code",
   "execution_count": 56,
   "id": "75a72c6f",
   "metadata": {},
   "outputs": [
    {
     "data": {
      "text/plain": [
       "\"For me the love should start with attraction.i should feel that I need her every time around me.she should be the first thing which comes in my thoughts.I would start the day and end it with her.she should be there every time I dream.love will be then when my every breath has her name.my life should happen around her.my life will be named to her.I would cry for her.will give all my happiness and take all her sorrows.I will be ready to fight with anyone for her.I will be in love when I will be doing the craziest things for her.love will be when I don't have to proove anyone that my girl is the most beautiful lady on the whole planet.I will always be singing praises for her.love will be when I start up making chicken curry and end up makiing sambar.life will be the most beautiful then.will get every morning and thank god for the day because she is with me.I would like to say a lot..will tell later..\""
      ]
     },
     "execution_count": 56,
     "metadata": {},
     "output_type": "execute_result"
    }
   ],
   "source": [
    "sms[sms.message_len == 910].message.iloc[0]"
   ]
  },
  {
   "cell_type": "markdown",
   "id": "f2f56212",
   "metadata": {},
   "source": [
    "### Text Pre-processing "
   ]
  },
  {
   "cell_type": "code",
   "execution_count": 59,
   "id": "a723cbaf",
   "metadata": {},
   "outputs": [],
   "source": [
    "import string\n",
    "from nltk.corpus import stopwords\n",
    "\n",
    "def text_process(mess):\n",
    "    STOPWORDS = stopwords.words('english') + ['u', 'ü', 'ur', '4', '2', 'im', 'dont', 'doin', 'ure']\n",
    "    #check character to see if they are in punctuation\n",
    "    nopunc = [char for char in mess if char not in string.punctuation]\n",
    "    #join the characters again to from the string\n",
    "    nopunc = ''.join(nopunc)\n",
    "    #remove any stopwords\n",
    "    return ' '.join([word for word in nopunc.split() if word.lower() not in STOPWORDS])"
   ]
  },
  {
   "cell_type": "code",
   "execution_count": 60,
   "id": "4a6845de",
   "metadata": {},
   "outputs": [
    {
     "data": {
      "text/html": [
       "<div>\n",
       "<style scoped>\n",
       "    .dataframe tbody tr th:only-of-type {\n",
       "        vertical-align: middle;\n",
       "    }\n",
       "\n",
       "    .dataframe tbody tr th {\n",
       "        vertical-align: top;\n",
       "    }\n",
       "\n",
       "    .dataframe thead th {\n",
       "        text-align: right;\n",
       "    }\n",
       "</style>\n",
       "<table border=\"1\" class=\"dataframe\">\n",
       "  <thead>\n",
       "    <tr style=\"text-align: right;\">\n",
       "      <th></th>\n",
       "      <th>label</th>\n",
       "      <th>message</th>\n",
       "      <th>label_num</th>\n",
       "      <th>message_len</th>\n",
       "    </tr>\n",
       "  </thead>\n",
       "  <tbody>\n",
       "    <tr>\n",
       "      <th>0</th>\n",
       "      <td>ham</td>\n",
       "      <td>Go until jurong point, crazy.. Available only ...</td>\n",
       "      <td>0</td>\n",
       "      <td>111</td>\n",
       "    </tr>\n",
       "    <tr>\n",
       "      <th>1</th>\n",
       "      <td>ham</td>\n",
       "      <td>Ok lar... Joking wif u oni...</td>\n",
       "      <td>0</td>\n",
       "      <td>29</td>\n",
       "    </tr>\n",
       "    <tr>\n",
       "      <th>2</th>\n",
       "      <td>spam</td>\n",
       "      <td>Free entry in 2 a wkly comp to win FA Cup fina...</td>\n",
       "      <td>1</td>\n",
       "      <td>155</td>\n",
       "    </tr>\n",
       "    <tr>\n",
       "      <th>3</th>\n",
       "      <td>ham</td>\n",
       "      <td>U dun say so early hor... U c already then say...</td>\n",
       "      <td>0</td>\n",
       "      <td>49</td>\n",
       "    </tr>\n",
       "    <tr>\n",
       "      <th>4</th>\n",
       "      <td>ham</td>\n",
       "      <td>Nah I don't think he goes to usf, he lives aro...</td>\n",
       "      <td>0</td>\n",
       "      <td>61</td>\n",
       "    </tr>\n",
       "  </tbody>\n",
       "</table>\n",
       "</div>"
      ],
      "text/plain": [
       "  label                                            message  label_num  \\\n",
       "0   ham  Go until jurong point, crazy.. Available only ...          0   \n",
       "1   ham                      Ok lar... Joking wif u oni...          0   \n",
       "2  spam  Free entry in 2 a wkly comp to win FA Cup fina...          1   \n",
       "3   ham  U dun say so early hor... U c already then say...          0   \n",
       "4   ham  Nah I don't think he goes to usf, he lives aro...          0   \n",
       "\n",
       "   message_len  \n",
       "0          111  \n",
       "1           29  \n",
       "2          155  \n",
       "3           49  \n",
       "4           61  "
      ]
     },
     "execution_count": 60,
     "metadata": {},
     "output_type": "execute_result"
    }
   ],
   "source": [
    "sms.head()"
   ]
  },
  {
   "cell_type": "code",
   "execution_count": 62,
   "id": "7109a884",
   "metadata": {},
   "outputs": [],
   "source": [
    "sms['clean_msg'] = sms.message.apply(text_process)"
   ]
  },
  {
   "cell_type": "code",
   "execution_count": 63,
   "id": "cebcc324",
   "metadata": {},
   "outputs": [
    {
     "data": {
      "text/html": [
       "<div>\n",
       "<style scoped>\n",
       "    .dataframe tbody tr th:only-of-type {\n",
       "        vertical-align: middle;\n",
       "    }\n",
       "\n",
       "    .dataframe tbody tr th {\n",
       "        vertical-align: top;\n",
       "    }\n",
       "\n",
       "    .dataframe thead th {\n",
       "        text-align: right;\n",
       "    }\n",
       "</style>\n",
       "<table border=\"1\" class=\"dataframe\">\n",
       "  <thead>\n",
       "    <tr style=\"text-align: right;\">\n",
       "      <th></th>\n",
       "      <th>label</th>\n",
       "      <th>message</th>\n",
       "      <th>label_num</th>\n",
       "      <th>message_len</th>\n",
       "      <th>clean_msg</th>\n",
       "    </tr>\n",
       "  </thead>\n",
       "  <tbody>\n",
       "    <tr>\n",
       "      <th>0</th>\n",
       "      <td>ham</td>\n",
       "      <td>Go until jurong point, crazy.. Available only ...</td>\n",
       "      <td>0</td>\n",
       "      <td>111</td>\n",
       "      <td>Go jurong point crazy Available bugis n great ...</td>\n",
       "    </tr>\n",
       "    <tr>\n",
       "      <th>1</th>\n",
       "      <td>ham</td>\n",
       "      <td>Ok lar... Joking wif u oni...</td>\n",
       "      <td>0</td>\n",
       "      <td>29</td>\n",
       "      <td>Ok lar Joking wif oni</td>\n",
       "    </tr>\n",
       "    <tr>\n",
       "      <th>2</th>\n",
       "      <td>spam</td>\n",
       "      <td>Free entry in 2 a wkly comp to win FA Cup fina...</td>\n",
       "      <td>1</td>\n",
       "      <td>155</td>\n",
       "      <td>Free entry wkly comp win FA Cup final tkts 21s...</td>\n",
       "    </tr>\n",
       "    <tr>\n",
       "      <th>3</th>\n",
       "      <td>ham</td>\n",
       "      <td>U dun say so early hor... U c already then say...</td>\n",
       "      <td>0</td>\n",
       "      <td>49</td>\n",
       "      <td>dun say early hor c already say</td>\n",
       "    </tr>\n",
       "    <tr>\n",
       "      <th>4</th>\n",
       "      <td>ham</td>\n",
       "      <td>Nah I don't think he goes to usf, he lives aro...</td>\n",
       "      <td>0</td>\n",
       "      <td>61</td>\n",
       "      <td>Nah think goes usf lives around though</td>\n",
       "    </tr>\n",
       "  </tbody>\n",
       "</table>\n",
       "</div>"
      ],
      "text/plain": [
       "  label                                            message  label_num  \\\n",
       "0   ham  Go until jurong point, crazy.. Available only ...          0   \n",
       "1   ham                      Ok lar... Joking wif u oni...          0   \n",
       "2  spam  Free entry in 2 a wkly comp to win FA Cup fina...          1   \n",
       "3   ham  U dun say so early hor... U c already then say...          0   \n",
       "4   ham  Nah I don't think he goes to usf, he lives aro...          0   \n",
       "\n",
       "   message_len                                          clean_msg  \n",
       "0          111  Go jurong point crazy Available bugis n great ...  \n",
       "1           29                              Ok lar Joking wif oni  \n",
       "2          155  Free entry wkly comp win FA Cup final tkts 21s...  \n",
       "3           49                    dun say early hor c already say  \n",
       "4           61             Nah think goes usf lives around though  "
      ]
     },
     "execution_count": 63,
     "metadata": {},
     "output_type": "execute_result"
    }
   ],
   "source": [
    "sms.head()"
   ]
  },
  {
   "cell_type": "code",
   "execution_count": 64,
   "id": "79de1e86",
   "metadata": {},
   "outputs": [
    {
     "data": {
      "text/plain": [
       "list"
      ]
     },
     "execution_count": 64,
     "metadata": {},
     "output_type": "execute_result"
    }
   ],
   "source": [
    "type(stopwords.words('english'))"
   ]
  },
  {
   "cell_type": "code",
   "execution_count": 66,
   "id": "2424e2db",
   "metadata": {},
   "outputs": [
    {
     "name": "stdout",
     "output_type": "stream",
     "text": [
      "[('get', 303), ('ltgt', 276), ('ok', 272), ('go', 247), ('ill', 236), ('know', 232), ('got', 231), ('like', 229), ('call', 229), ('come', 224), ('good', 222), ('time', 189), ('day', 187), ('love', 185), ('going', 167), ('want', 163), ('one', 162), ('home', 160), ('lor', 160), ('need', 156), ('sorry', 153), ('still', 146), ('see', 137), ('n', 134), ('later', 134), ('da', 131), ('r', 131), ('back', 129), ('think', 128), ('well', 126), ('today', 125), ('send', 123), ('tell', 121), ('cant', 118), ('ì', 117), ('hi', 117), ('take', 112), ('much', 112), ('oh', 111), ('night', 107), ('hey', 106), ('happy', 105), ('great', 100), ('way', 100), ('hope', 99), ('pls', 98), ('work', 96), ('wat', 95), ('thats', 94), ('dear', 94)]\n"
     ]
    }
   ],
   "source": [
    "from collections import Counter\n",
    "\n",
    "words = sms[sms.label=='ham'].clean_msg.apply(lambda x: [word.lower() for word in x.split()])\n",
    "ham_words = Counter()\n",
    "\n",
    "for msg in words:\n",
    "    ham_words.update(msg)\n",
    "\n",
    "print(ham_words.most_common(50))"
   ]
  },
  {
   "cell_type": "code",
   "execution_count": 67,
   "id": "e1b075b3",
   "metadata": {},
   "outputs": [
    {
     "name": "stdout",
     "output_type": "stream",
     "text": [
      "[('call', 347), ('free', 216), ('txt', 150), ('mobile', 123), ('text', 120), ('claim', 113), ('stop', 113), ('reply', 101), ('prize', 92), ('get', 83), ('new', 69), ('send', 67), ('nokia', 65), ('urgent', 63), ('cash', 62), ('win', 60), ('contact', 56), ('service', 55), ('please', 52), ('guaranteed', 50), ('customer', 49), ('16', 49), ('week', 49), ('tone', 48), ('per', 46), ('phone', 45), ('18', 43), ('chat', 42), ('awarded', 38), ('draw', 38), ('latest', 36), ('å£1000', 35), ('line', 35), ('150ppm', 34), ('mins', 34), ('receive', 33), ('camera', 33), ('1', 33), ('every', 33), ('message', 32), ('holiday', 32), ('landline', 32), ('shows', 31), ('å£2000', 31), ('go', 31), ('box', 30), ('number', 30), ('apply', 29), ('code', 29), ('live', 29)]\n"
     ]
    }
   ],
   "source": [
    "from collections import Counter\n",
    "\n",
    "words = sms[sms.label=='spam'].clean_msg.apply(lambda x: [word.lower() for word in x.split()])\n",
    "spam_words = Counter()\n",
    "\n",
    "for msg in words:\n",
    "    spam_words.update(msg)\n",
    "\n",
    "print(spam_words.most_common(50))"
   ]
  },
  {
   "cell_type": "markdown",
   "id": "2e78bf47",
   "metadata": {},
   "source": [
    "### Vectorization"
   ]
  },
  {
   "cell_type": "code",
   "execution_count": 68,
   "id": "80acd55a",
   "metadata": {},
   "outputs": [
    {
     "name": "stdout",
     "output_type": "stream",
     "text": [
      "(5572,) (5572,)\n"
     ]
    }
   ],
   "source": [
    "X = sms.clean_msg\n",
    "y = sms.label_num\n",
    "print(X.shape, y.shape)"
   ]
  },
  {
   "cell_type": "code",
   "execution_count": 69,
   "id": "ebf52cab",
   "metadata": {},
   "outputs": [
    {
     "name": "stdout",
     "output_type": "stream",
     "text": [
      "(4179,)\n",
      "(1393,)\n",
      "(4179,)\n",
      "(1393,)\n"
     ]
    }
   ],
   "source": [
    "from sklearn.model_selection import train_test_split\n",
    "X_train, X_test, y_train, y_test = train_test_split(X, y, random_state=1)\n",
    "print(X_train.shape)\n",
    "print(X_test.shape)\n",
    "print(y_train.shape)\n",
    "print(y_test.shape)"
   ]
  },
  {
   "cell_type": "markdown",
   "id": "9543f847",
   "metadata": {},
   "source": [
    "### Vectorizer "
   ]
  },
  {
   "cell_type": "code",
   "execution_count": 71,
   "id": "937be334",
   "metadata": {},
   "outputs": [
    {
     "data": {
      "text/plain": [
       "CountVectorizer()"
      ]
     },
     "execution_count": 71,
     "metadata": {},
     "output_type": "execute_result"
    }
   ],
   "source": [
    "from sklearn.feature_extraction.text import CountVectorizer\n",
    "#X_train을 vector로 변환\n",
    "vect = CountVectorizer()\n",
    "vect.fit(X_train)"
   ]
  },
  {
   "cell_type": "code",
   "execution_count": 72,
   "id": "83cd7b51",
   "metadata": {},
   "outputs": [],
   "source": [
    "#학습, document-term matrix 생성\n",
    "X_train_dtm = vect.transform(X_train)"
   ]
  },
  {
   "cell_type": "code",
   "execution_count": 73,
   "id": "91bd1827",
   "metadata": {},
   "outputs": [],
   "source": [
    "# equivalently: combine fit and transform into a single step\n",
    "# 위의 두 과정을 한번에 하려면 이렇게 해도 된다(?)\n",
    "\n",
    "X_train_dtm = vect.fit_transform(X_train)"
   ]
  },
  {
   "cell_type": "code",
   "execution_count": 74,
   "id": "8a5ac7d1",
   "metadata": {},
   "outputs": [
    {
     "data": {
      "text/plain": [
       "<4179x7996 sparse matrix of type '<class 'numpy.int64'>'\n",
       "\twith 34796 stored elements in Compressed Sparse Row format>"
      ]
     },
     "execution_count": 74,
     "metadata": {},
     "output_type": "execute_result"
    }
   ],
   "source": [
    "X_train_dtm"
   ]
  },
  {
   "cell_type": "code",
   "execution_count": 75,
   "id": "cfe2dfa0",
   "metadata": {},
   "outputs": [],
   "source": [
    "X_test_dtm = vect.transform(X_test)"
   ]
  },
  {
   "cell_type": "code",
   "execution_count": 76,
   "id": "35f05433",
   "metadata": {},
   "outputs": [
    {
     "data": {
      "text/plain": [
       "<1393x7996 sparse matrix of type '<class 'numpy.int64'>'\n",
       "\twith 9971 stored elements in Compressed Sparse Row format>"
      ]
     },
     "execution_count": 76,
     "metadata": {},
     "output_type": "execute_result"
    }
   ],
   "source": [
    "X_test_dtm"
   ]
  },
  {
   "cell_type": "code",
   "execution_count": 77,
   "id": "599ef7b4",
   "metadata": {},
   "outputs": [
    {
     "data": {
      "text/plain": [
       "<4179x7996 sparse matrix of type '<class 'numpy.float64'>'\n",
       "\twith 34796 stored elements in Compressed Sparse Row format>"
      ]
     },
     "execution_count": 77,
     "metadata": {},
     "output_type": "execute_result"
    }
   ],
   "source": [
    "from sklearn.feature_extraction.text import TfidfTransformer\n",
    "\n",
    "tfidf_transformer = TfidfTransformer()\n",
    "tfidf_transformer.fit(X_train_dtm)\n",
    "tfidf_transformer.transform(X_train_dtm)"
   ]
  },
  {
   "cell_type": "markdown",
   "id": "80c31c57",
   "metadata": {},
   "source": [
    "### Fit model(multinomial Naive Bayes)"
   ]
  },
  {
   "cell_type": "code",
   "execution_count": 78,
   "id": "98a72df4",
   "metadata": {},
   "outputs": [],
   "source": [
    "from sklearn.naive_bayes import MultinomialNB\n",
    "nb = MultinomialNB()"
   ]
  },
  {
   "cell_type": "code",
   "execution_count": 80,
   "id": "d331f58c",
   "metadata": {},
   "outputs": [
    {
     "name": "stdout",
     "output_type": "stream",
     "text": [
      "Wall time: 24.9 ms\n"
     ]
    },
    {
     "data": {
      "text/plain": [
       "MultinomialNB()"
      ]
     },
     "execution_count": 80,
     "metadata": {},
     "output_type": "execute_result"
    }
   ],
   "source": [
    "%time nb.fit(X_train_dtm, y_train)"
   ]
  },
  {
   "cell_type": "code",
   "execution_count": 81,
   "id": "f4d8b6d0",
   "metadata": {},
   "outputs": [],
   "source": [
    "y_pred_class = nb.predict(X_test_dtm)"
   ]
  },
  {
   "cell_type": "code",
   "execution_count": 82,
   "id": "b79a70e8",
   "metadata": {},
   "outputs": [
    {
     "data": {
      "text/plain": [
       "0.9827709978463748"
      ]
     },
     "execution_count": 82,
     "metadata": {},
     "output_type": "execute_result"
    }
   ],
   "source": [
    "from sklearn import metrics\n",
    "metrics.accuracy_score(y_test, y_pred_class)"
   ]
  },
  {
   "cell_type": "code",
   "execution_count": 83,
   "id": "59e7e131",
   "metadata": {},
   "outputs": [
    {
     "data": {
      "text/plain": [
       "array([[1205,    8],\n",
       "       [  16,  164]], dtype=int64)"
      ]
     },
     "execution_count": 83,
     "metadata": {},
     "output_type": "execute_result"
    }
   ],
   "source": [
    "# print the confusion matrix\n",
    "metrics.confusion_matrix(y_test, y_pred_class)"
   ]
  },
  {
   "cell_type": "code",
   "execution_count": 85,
   "id": "bb30cb72",
   "metadata": {},
   "outputs": [
    {
     "data": {
      "text/plain": [
       "(1393,)"
      ]
     },
     "execution_count": 85,
     "metadata": {},
     "output_type": "execute_result"
    }
   ],
   "source": [
    "X_test.shape"
   ]
  },
  {
   "cell_type": "code",
   "execution_count": 86,
   "id": "e6e49c25",
   "metadata": {},
   "outputs": [
    {
     "data": {
      "text/plain": [
       "2418    Madamregret disturbancemight receive reference...\n",
       "4598                                laid airtel line rest\n",
       "386                                   Customer place call\n",
       "1289    HeyGreat dealFarm tour 9am 5pm 95pax 50 deposi...\n",
       "5094    Hi ShanilRakhesh herethanksi exchanged uncut d...\n",
       "494                                      free nowcan call\n",
       "759     Call youcarlos isare phones vibrate acting mig...\n",
       "3140                                  Customer place call\n",
       "Name: clean_msg, dtype: object"
      ]
     },
     "execution_count": 86,
     "metadata": {},
     "output_type": "execute_result"
    }
   ],
   "source": [
    "# print message text for false positives (ham incorrectly classifier)\n",
    "# X_test[(y_pred_class==1) & (y_test==0)]\n",
    "X_test[y_pred_class > y_test]"
   ]
  },
  {
   "cell_type": "code",
   "execution_count": 88,
   "id": "a6c0d6e1",
   "metadata": {},
   "outputs": [
    {
     "data": {
      "text/plain": [
       "4674    Hi babe Chloe r smashed saturday night great w...\n",
       "3528    Xmas New Years Eve tickets sale club day 10am ...\n",
       "3417    LIFE never much fun great came made truly spec...\n",
       "2773    come takes little time child afraid dark becom...\n",
       "1960    Guess Somebody know secretly fancies Wanna fin...\n",
       "5       FreeMsg Hey darling 3 weeks word back Id like ...\n",
       "2078                         85233 FREERingtoneReply REAL\n",
       "1457    CLAIRE havin borin time alone wanna cum 2nite ...\n",
       "190     unique enough Find 30th August wwwareyouunique...\n",
       "2429    Guess IThis first time created web page WWWASJ...\n",
       "3057    unsubscribed services Get tons sexy babes hunk...\n",
       "1021    Guess Somebody know secretly fancies Wanna fin...\n",
       "4067    TBSPERSOLVO chasing us since Sept forå£38 defi...\n",
       "3358         Sorry missed call lets talk time 07090201529\n",
       "2821    ROMCAPspam Everyone around responding well pre...\n",
       "2247    Back work 2morro half term C 2nite sexy passio...\n",
       "Name: clean_msg, dtype: object"
      ]
     },
     "execution_count": 88,
     "metadata": {},
     "output_type": "execute_result"
    }
   ],
   "source": [
    "# print message text for false negatives (spam incorrectly classifier)\n",
    "X_test[y_pred_class < y_test]"
   ]
  },
  {
   "cell_type": "code",
   "execution_count": 89,
   "id": "64d29e94",
   "metadata": {},
   "outputs": [
    {
     "data": {
      "text/plain": [
       "'Hi probably much fun get message thought id txt cos bored james farting night'"
      ]
     },
     "execution_count": 89,
     "metadata": {},
     "output_type": "execute_result"
    }
   ],
   "source": [
    "X_test[4949]"
   ]
  },
  {
   "cell_type": "code",
   "execution_count": 91,
   "id": "a57b271e",
   "metadata": {},
   "outputs": [
    {
     "data": {
      "text/plain": [
       "array([2.11903975e-02, 3.97831612e-04, 1.06470895e-03, ...,\n",
       "       1.31939653e-02, 9.99821127e-05, 6.04083365e-06])"
      ]
     },
     "execution_count": 91,
     "metadata": {},
     "output_type": "execute_result"
    }
   ],
   "source": [
    "y_pred_prob = nb.predict_proba(X_test_dtm)[:, 1]\n",
    "y_pred_prob"
   ]
  },
  {
   "cell_type": "code",
   "execution_count": 96,
   "id": "a97a3073",
   "metadata": {},
   "outputs": [
    {
     "data": {
      "text/plain": [
       "0.9774342768159751"
      ]
     },
     "execution_count": 96,
     "metadata": {},
     "output_type": "execute_result"
    }
   ],
   "source": [
    "from sklearn.metrics import roc_auc_score\n",
    "metrics.roc_auc_score(y_test, y_pred_prob)"
   ]
  },
  {
   "cell_type": "code",
   "execution_count": 97,
   "id": "1527f20e",
   "metadata": {},
   "outputs": [
    {
     "data": {
      "text/plain": [
       "Pipeline(steps=[('bow', CountVectorizer()), ('tfid', TfidfTransformer()),\n",
       "                ('model', MultinomialNB())])"
      ]
     },
     "execution_count": 97,
     "metadata": {},
     "output_type": "execute_result"
    }
   ],
   "source": [
    "from sklearn.feature_extraction.text import TfidfTransformer\n",
    "from sklearn.pipeline import Pipeline\n",
    "\n",
    "pipe = Pipeline([('bow', CountVectorizer()),\n",
    "                ('tfid', TfidfTransformer()),\n",
    "                ('model', MultinomialNB())])\n",
    "pipe.fit(X_train, y_train)"
   ]
  },
  {
   "cell_type": "code",
   "execution_count": 98,
   "id": "16ec02a7",
   "metadata": {},
   "outputs": [],
   "source": [
    "y_pred = pipe.predict(X_test)"
   ]
  },
  {
   "cell_type": "code",
   "execution_count": 99,
   "id": "d3d808b4",
   "metadata": {},
   "outputs": [
    {
     "data": {
      "text/plain": [
       "0.9669777458722182"
      ]
     },
     "execution_count": 99,
     "metadata": {},
     "output_type": "execute_result"
    }
   ],
   "source": [
    "metrics.accuracy_score(y_test, y_pred)"
   ]
  },
  {
   "cell_type": "code",
   "execution_count": 100,
   "id": "c2a19694",
   "metadata": {},
   "outputs": [
    {
     "data": {
      "text/plain": [
       "array([[1213,    0],\n",
       "       [  46,  134]], dtype=int64)"
      ]
     },
     "execution_count": 100,
     "metadata": {},
     "output_type": "execute_result"
    }
   ],
   "source": [
    "metrics.confusion_matrix(y_test, y_pred)"
   ]
  },
  {
   "cell_type": "markdown",
   "id": "674c1d10",
   "metadata": {},
   "source": [
    "### Model Comparing"
   ]
  },
  {
   "cell_type": "markdown",
   "id": "ec009ce3",
   "metadata": {},
   "source": [
    "#### Logistic Regression"
   ]
  },
  {
   "cell_type": "code",
   "execution_count": 101,
   "id": "3d0bf512",
   "metadata": {},
   "outputs": [],
   "source": [
    "from sklearn.linear_model import LogisticRegression\n",
    "logreg = LogisticRegression(solver='liblinear')"
   ]
  },
  {
   "cell_type": "code",
   "execution_count": 103,
   "id": "00e866fe",
   "metadata": {},
   "outputs": [
    {
     "name": "stdout",
     "output_type": "stream",
     "text": [
      "Wall time: 158 ms\n"
     ]
    },
    {
     "data": {
      "text/plain": [
       "LogisticRegression(solver='liblinear')"
      ]
     },
     "execution_count": 103,
     "metadata": {},
     "output_type": "execute_result"
    }
   ],
   "source": [
    "%time logreg.fit(X_train_dtm, y_train)"
   ]
  },
  {
   "cell_type": "code",
   "execution_count": 104,
   "id": "5e09471e",
   "metadata": {},
   "outputs": [],
   "source": [
    "y_pred_class = logreg.predict(X_test_dtm)"
   ]
  },
  {
   "cell_type": "code",
   "execution_count": 105,
   "id": "0b7ca2dc",
   "metadata": {},
   "outputs": [
    {
     "data": {
      "text/plain": [
       "array([0.01694418, 0.0152182 , 0.08261755, ..., 0.02198942, 0.00531726,\n",
       "       0.00679188])"
      ]
     },
     "execution_count": 105,
     "metadata": {},
     "output_type": "execute_result"
    }
   ],
   "source": [
    "# calculate predicted probabilities for X_test_dtm (well calibrated)\n",
    "y_pred_prob = logreg.predict_proba(X_test_dtm)[:, 1]\n",
    "y_pred_prob"
   ]
  },
  {
   "cell_type": "code",
   "execution_count": 106,
   "id": "92c04e67",
   "metadata": {},
   "outputs": [
    {
     "data": {
      "text/plain": [
       "0.9842067480258435"
      ]
     },
     "execution_count": 106,
     "metadata": {},
     "output_type": "execute_result"
    }
   ],
   "source": [
    "metrics.accuracy_score(y_test, y_pred_class)"
   ]
  },
  {
   "cell_type": "code",
   "execution_count": 107,
   "id": "2960904d",
   "metadata": {},
   "outputs": [
    {
     "data": {
      "text/plain": [
       "array([[1213,    0],\n",
       "       [  22,  158]], dtype=int64)"
      ]
     },
     "execution_count": 107,
     "metadata": {},
     "output_type": "execute_result"
    }
   ],
   "source": [
    "metrics.confusion_matrix(y_test, y_pred_class)"
   ]
  },
  {
   "cell_type": "code",
   "execution_count": 108,
   "id": "2d8989b3",
   "metadata": {},
   "outputs": [
    {
     "data": {
      "text/plain": [
       "0.9835714940001832"
      ]
     },
     "execution_count": 108,
     "metadata": {},
     "output_type": "execute_result"
    }
   ],
   "source": [
    "metrics.roc_auc_score(y_test, y_pred_prob)"
   ]
  },
  {
   "cell_type": "markdown",
   "id": "f97e726d",
   "metadata": {},
   "source": [
    "### Tuning the vectorizer"
   ]
  },
  {
   "cell_type": "code",
   "execution_count": 109,
   "id": "0ecc9955",
   "metadata": {},
   "outputs": [
    {
     "data": {
      "text/plain": [
       "CountVectorizer()"
      ]
     },
     "execution_count": 109,
     "metadata": {},
     "output_type": "execute_result"
    }
   ],
   "source": [
    "vect"
   ]
  },
  {
   "cell_type": "code",
   "execution_count": 110,
   "id": "5f3e06b5",
   "metadata": {},
   "outputs": [],
   "source": [
    "# remove English stop words\n",
    "vect = CountVectorizer(stop_words='engish')"
   ]
  },
  {
   "cell_type": "code",
   "execution_count": 111,
   "id": "6f4d2d5b",
   "metadata": {},
   "outputs": [],
   "source": [
    "# include 1-grams and 2-grams\n",
    "vect = CountVectorizer(ngram_range=(1,2))"
   ]
  },
  {
   "cell_type": "code",
   "execution_count": 112,
   "id": "e7515560",
   "metadata": {},
   "outputs": [],
   "source": [
    "# ignore terms that appear in more than 50% of the documents\n",
    "vect = CountVectorizer(max_df=0.5)"
   ]
  },
  {
   "cell_type": "code",
   "execution_count": 113,
   "id": "bd2e4ea1",
   "metadata": {},
   "outputs": [],
   "source": [
    "# only keep terms that appear in at least 2 documents\n",
    "vect = CountVectorizer(min_df=2)"
   ]
  },
  {
   "cell_type": "code",
   "execution_count": null,
   "id": "f95909f2",
   "metadata": {},
   "outputs": [],
   "source": []
  }
 ],
 "metadata": {
  "kernelspec": {
   "display_name": "Python 3",
   "language": "python",
   "name": "python3"
  },
  "language_info": {
   "codemirror_mode": {
    "name": "ipython",
    "version": 3
   },
   "file_extension": ".py",
   "mimetype": "text/x-python",
   "name": "python",
   "nbconvert_exporter": "python",
   "pygments_lexer": "ipython3",
   "version": "3.7.7"
  }
 },
 "nbformat": 4,
 "nbformat_minor": 5
}
