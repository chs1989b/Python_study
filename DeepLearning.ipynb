{
 "cells": [
  {
   "cell_type": "code",
   "execution_count": 1,
   "metadata": {},
   "outputs": [
    {
     "name": "stdout",
     "output_type": "stream",
     "text": [
      "generation=0, 기울기=0.0000, 절편=0.0000\n",
      "generation=0, 기울기=0.0000, 절편=0.0000\n",
      "generation=0, 기울기=0.0000, 절편=0.0000\n",
      "generation=0, 기울기=0.0000, 절편=0.0000\n",
      "generation=4000, 기울기=50.7763, 절편=3.8910\n",
      "generation=4000, 기울기=50.7763, 절편=3.8910\n",
      "generation=4000, 기울기=50.7763, 절편=3.8910\n",
      "generation=4000, 기울기=50.7763, 절편=3.8910\n",
      "generation=8000, 기울기=100.7763, 절편=4.5877\n",
      "generation=8000, 기울기=100.7763, 절편=4.5877\n",
      "generation=8000, 기울기=100.7763, 절편=4.5877\n",
      "generation=8000, 기울기=100.7763, 절편=4.5877\n",
      "generation=12000, 기울기=150.7763, 절편=4.9963\n",
      "generation=12000, 기울기=150.7763, 절편=4.9963\n",
      "generation=12000, 기울기=150.7763, 절편=4.9963\n",
      "generation=12000, 기울기=150.7763, 절편=4.9963\n",
      "generation=16000, 기울기=200.7763, 절편=5.2861\n",
      "generation=16000, 기울기=200.7763, 절편=5.2861\n",
      "generation=16000, 기울기=200.7763, 절편=5.2861\n",
      "generation=16000, 기울기=200.7763, 절편=5.2861\n",
      "generation=20000, 기울기=250.7763, 절편=5.5108\n",
      "generation=20000, 기울기=250.7763, 절편=5.5108\n",
      "generation=20000, 기울기=250.7763, 절편=5.5108\n",
      "generation=20000, 기울기=250.7763, 절편=5.5108\n"
     ]
    }
   ],
   "source": [
    "import numpy as np\n",
    "\n",
    "data = [[0, 0], [1, 1], [1, 2], [2, 1]]\n",
    "\n",
    "w1 = 0\n",
    "w0 = 0\n",
    "lr = 0.05 \n",
    "\n",
    "def sigmoid(x):\n",
    "    return 1 / (1 + np.e ** (-x))\n",
    "\n",
    "#성질이 느긋한 사람이 쓰는 방법\n",
    "for i in range(20001):\n",
    "  w1_= 0\n",
    "  w0_= 0\n",
    "\n",
    "  for x_data, y_data in data:\n",
    "    w1_delta = x_data*(sigmoid(w1*x_data + w0) - y_data) \n",
    "    w0_delta = sigmoid(w1*x_data + w0) - y_data\n",
    "    w1_ = w1_ + w1_delta\n",
    "    w0_ = w0_ + w0_delta\n",
    "\n",
    "    if i%4000==0:\n",
    "       print(\"generation=%.f, 기울기=%.04f, 절편=%.04f\" % (i, w1, w0))\n",
    "\n",
    "  w1 = w1 - lr * w1_*(1/len(data))\n",
    "  w0 = w0 - lr * w0_*(1/len(data))  "
   ]
  },
  {
   "cell_type": "code",
   "execution_count": 4,
   "metadata": {},
   "outputs": [
    {
     "name": "stdout",
     "output_type": "stream",
     "text": [
      "generation=0, 기울기=-0.0500, 절편=-0.0250\n",
      "generation=0, 기울기=-0.1388, 절편=-0.0472\n",
      "generation=0, 기울기=-0.2268, 절편=-0.0619\n",
      "generation=0, 기울기=0.1201, 절편=-0.0185\n",
      "generation=0, 기울기=0.2374, 절편=-0.0068\n",
      "generation=0, 기울기=0.2705, 절편=-0.0040\n",
      "generation=0, 기울기=0.2860, 절편=-0.0029\n",
      "generation=500, 기울기=1.1684, 절편=-7.4486\n",
      "generation=500, 기울기=1.1567, 절편=-7.4516\n",
      "generation=500, 기울기=1.0442, 절편=-7.4703\n",
      "generation=500, 기울기=1.1612, 절편=-7.4557\n",
      "generation=500, 기울기=1.1689, 절편=-7.4549\n",
      "generation=500, 기울기=1.1698, 절편=-7.4549\n",
      "generation=500, 기울기=1.1698, 절편=-7.4548\n",
      "generation=1000, 기울기=1.4978, 절편=-9.9401\n",
      "generation=1000, 기울기=1.4940, 절편=-9.9411\n",
      "generation=1000, 기울기=1.4120, 절편=-9.9547\n",
      "generation=1000, 기울기=1.4949, 절편=-9.9444\n",
      "generation=1000, 기울기=1.4982, 절편=-9.9440\n",
      "generation=1000, 기울기=1.4984, 절편=-9.9440\n",
      "generation=1000, 기울기=1.4985, 절편=-9.9440\n",
      "generation=1500, 기울기=1.7268, 절편=-11.6347\n",
      "generation=1500, 기울기=1.7250, 절편=-11.6352\n",
      "generation=1500, 기울기=1.6600, 절편=-11.6460\n",
      "generation=1500, 기울기=1.7253, 절편=-11.6378\n",
      "generation=1500, 기울기=1.7271, 절편=-11.6377\n",
      "generation=1500, 기울기=1.7272, 절편=-11.6376\n",
      "generation=1500, 기울기=1.7272, 절편=-11.6376\n",
      "generation=2000, 기울기=1.9065, 절편=-12.9489\n",
      "generation=2000, 기울기=1.9055, 절편=-12.9491\n",
      "generation=2000, 기울기=1.8515, 절편=-12.9581\n",
      "generation=2000, 기울기=1.9057, 절편=-12.9514\n",
      "generation=2000, 기울기=1.9068, 절편=-12.9513\n",
      "generation=2000, 기울기=1.9068, 절편=-12.9513\n",
      "generation=2000, 기울기=1.9068, 절편=-12.9513\n"
     ]
    }
   ],
   "source": [
    "import numpy as np\n",
    "data = [[2, 0], [4, 0], [6, 0], [8, 1], [10, 1], [12, 1], [14, 1]]\n",
    "\n",
    "w1 = 0\n",
    "w0 = 0\n",
    "lr = 0.05 \n",
    "def sigmoid(x):\n",
    "    return 1 / (1 + np.e ** (-x))\n",
    "\n",
    "#성질이 급한 사람이 쓰는 방법\n",
    "\n",
    "for i in range(2001):\n",
    "    for x_data, y_data in data:\n",
    "        w1_diff = x_data*(sigmoid(w1*x_data + w0) - y_data) \n",
    "        w0_diff = sigmoid(w1*x_data + w0) - y_data\n",
    "        w1 = w1 - lr * w1_diff\n",
    "        w0 = w0 - lr * w0_diff\n",
    "        if i % 500 == 0:    \n",
    "            print(\"generation=%.f, 기울기=%.04f, 절편=%.04f\" % (i, w1, w0))"
   ]
  },
  {
   "cell_type": "code",
   "execution_count": null,
   "metadata": {},
   "outputs": [],
   "source": []
  }
 ],
 "metadata": {
  "kernelspec": {
   "display_name": "Python 3",
   "language": "python",
   "name": "python3"
  },
  "language_info": {
   "codemirror_mode": {
    "name": "ipython",
    "version": 3
   },
   "file_extension": ".py",
   "mimetype": "text/x-python",
   "name": "python",
   "nbconvert_exporter": "python",
   "pygments_lexer": "ipython3",
   "version": "3.7.7"
  }
 },
 "nbformat": 4,
 "nbformat_minor": 4
}
